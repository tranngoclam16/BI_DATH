{
 "cells": [
  {
   "cell_type": "code",
   "execution_count": 1,
   "metadata": {},
   "outputs": [],
   "source": [
    "import pandas as pd\n",
    "import numpy as np\n",
    "import seaborn as sns\n",
    "import matplotlib.pyplot as plt\n",
    "import plotly.express as px\n",
    "from sklearn import linear_model\n",
    "import statsmodels.api as sm"
   ]
  },
  {
   "cell_type": "code",
   "execution_count": 3,
   "metadata": {},
   "outputs": [
    {
     "data": {
      "text/html": [
       "<div>\n",
       "<style scoped>\n",
       "    .dataframe tbody tr th:only-of-type {\n",
       "        vertical-align: middle;\n",
       "    }\n",
       "\n",
       "    .dataframe tbody tr th {\n",
       "        vertical-align: top;\n",
       "    }\n",
       "\n",
       "    .dataframe thead th {\n",
       "        text-align: right;\n",
       "    }\n",
       "</style>\n",
       "<table border=\"1\" class=\"dataframe\">\n",
       "  <thead>\n",
       "    <tr style=\"text-align: right;\">\n",
       "      <th></th>\n",
       "      <th>ObjectId</th>\n",
       "      <th>row_id</th>\n",
       "      <th>date_reported</th>\n",
       "      <th>health_region</th>\n",
       "      <th>age_group</th>\n",
       "      <th>gender</th>\n",
       "      <th>exposure</th>\n",
       "      <th>case_status</th>\n",
       "      <th>province</th>\n",
       "    </tr>\n",
       "  </thead>\n",
       "  <tbody>\n",
       "    <tr>\n",
       "      <th>0</th>\n",
       "      <td>1</td>\n",
       "      <td>500</td>\n",
       "      <td>2020/03/23 12:00:00+00</td>\n",
       "      <td>Peel Public Health</td>\n",
       "      <td>20-29</td>\n",
       "      <td>Female</td>\n",
       "      <td>Close Contact</td>\n",
       "      <td>Recovered</td>\n",
       "      <td>Ontario</td>\n",
       "    </tr>\n",
       "    <tr>\n",
       "      <th>1</th>\n",
       "      <td>2</td>\n",
       "      <td>501</td>\n",
       "      <td>2020/04/02 12:00:00+00</td>\n",
       "      <td>Peel Public Health</td>\n",
       "      <td>40-49</td>\n",
       "      <td>Female</td>\n",
       "      <td>Close Contact</td>\n",
       "      <td>Recovered</td>\n",
       "      <td>Ontario</td>\n",
       "    </tr>\n",
       "    <tr>\n",
       "      <th>2</th>\n",
       "      <td>3</td>\n",
       "      <td>502</td>\n",
       "      <td>2020/03/25 12:00:00+00</td>\n",
       "      <td>Kingston, Frontenac and Lennox &amp; Addington Pub...</td>\n",
       "      <td>30-39</td>\n",
       "      <td>Male</td>\n",
       "      <td>Close Contact</td>\n",
       "      <td>Recovered</td>\n",
       "      <td>Ontario</td>\n",
       "    </tr>\n",
       "    <tr>\n",
       "      <th>3</th>\n",
       "      <td>4</td>\n",
       "      <td>503</td>\n",
       "      <td>2020/03/28 12:00:00+00</td>\n",
       "      <td>Kingston, Frontenac and Lennox &amp; Addington Pub...</td>\n",
       "      <td>&lt;20</td>\n",
       "      <td>Female</td>\n",
       "      <td>Close Contact</td>\n",
       "      <td>Recovered</td>\n",
       "      <td>Ontario</td>\n",
       "    </tr>\n",
       "    <tr>\n",
       "      <th>4</th>\n",
       "      <td>5</td>\n",
       "      <td>504</td>\n",
       "      <td>2020/03/30 12:00:00+00</td>\n",
       "      <td>Peel Public Health</td>\n",
       "      <td>50-59</td>\n",
       "      <td>Male</td>\n",
       "      <td>Close Contact</td>\n",
       "      <td>Recovered</td>\n",
       "      <td>Ontario</td>\n",
       "    </tr>\n",
       "  </tbody>\n",
       "</table>\n",
       "</div>"
      ],
      "text/plain": [
       "   ObjectId  row_id           date_reported  \\\n",
       "0         1     500  2020/03/23 12:00:00+00   \n",
       "1         2     501  2020/04/02 12:00:00+00   \n",
       "2         3     502  2020/03/25 12:00:00+00   \n",
       "3         4     503  2020/03/28 12:00:00+00   \n",
       "4         5     504  2020/03/30 12:00:00+00   \n",
       "\n",
       "                                       health_region age_group  gender  \\\n",
       "0                                 Peel Public Health     20-29  Female   \n",
       "1                                 Peel Public Health     40-49  Female   \n",
       "2  Kingston, Frontenac and Lennox & Addington Pub...     30-39    Male   \n",
       "3  Kingston, Frontenac and Lennox & Addington Pub...       <20  Female   \n",
       "4                                 Peel Public Health     50-59    Male   \n",
       "\n",
       "        exposure case_status province  \n",
       "0  Close Contact   Recovered  Ontario  \n",
       "1  Close Contact   Recovered  Ontario  \n",
       "2  Close Contact   Recovered  Ontario  \n",
       "3  Close Contact   Recovered  Ontario  \n",
       "4  Close Contact   Recovered  Ontario  "
      ]
     },
     "execution_count": 3,
     "metadata": {},
     "output_type": "execute_result"
    }
   ],
   "source": [
    "df=pd.read_csv('Datasource/Compiled_COVID-19_Case_Details_(Canada).csv')\n",
    "df.head()"
   ]
  },
  {
   "cell_type": "code",
   "execution_count": 4,
   "metadata": {},
   "outputs": [
    {
     "name": "stdout",
     "output_type": "stream",
     "text": [
      "<class 'pandas.core.frame.DataFrame'>\n",
      "RangeIndex: 1048575 entries, 0 to 1048574\n",
      "Data columns (total 9 columns):\n",
      " #   Column         Non-Null Count    Dtype \n",
      "---  ------         --------------    ----- \n",
      " 0   ObjectId       1048575 non-null  int64 \n",
      " 1   row_id         1048575 non-null  int64 \n",
      " 2   date_reported  1048575 non-null  object\n",
      " 3   health_region  1048575 non-null  object\n",
      " 4   age_group      1048575 non-null  object\n",
      " 5   gender         1048575 non-null  object\n",
      " 6   exposure       1048575 non-null  object\n",
      " 7   case_status    1048575 non-null  object\n",
      " 8   province       1048575 non-null  object\n",
      "dtypes: int64(2), object(7)\n",
      "memory usage: 72.0+ MB\n"
     ]
    }
   ],
   "source": [
    "df.info()"
   ]
  },
  {
   "cell_type": "code",
   "execution_count": 5,
   "metadata": {},
   "outputs": [
    {
     "data": {
      "text/plain": [
       "ObjectId         0\n",
       "row_id           0\n",
       "date_reported    0\n",
       "health_region    0\n",
       "age_group        0\n",
       "gender           0\n",
       "exposure         0\n",
       "case_status      0\n",
       "province         0\n",
       "dtype: int64"
      ]
     },
     "execution_count": 5,
     "metadata": {},
     "output_type": "execute_result"
    }
   ],
   "source": [
    "df.isnull().sum()"
   ]
  },
  {
   "cell_type": "code",
   "execution_count": 15,
   "metadata": {},
   "outputs": [
    {
     "data": {
      "text/html": [
       "<div>\n",
       "<style scoped>\n",
       "    .dataframe tbody tr th:only-of-type {\n",
       "        vertical-align: middle;\n",
       "    }\n",
       "\n",
       "    .dataframe tbody tr th {\n",
       "        vertical-align: top;\n",
       "    }\n",
       "\n",
       "    .dataframe thead th {\n",
       "        text-align: right;\n",
       "    }\n",
       "</style>\n",
       "<table border=\"1\" class=\"dataframe\">\n",
       "  <thead>\n",
       "    <tr style=\"text-align: right;\">\n",
       "      <th></th>\n",
       "      <th>ObjectId</th>\n",
       "      <th>RowId</th>\n",
       "      <th>DateReported</th>\n",
       "      <th>HealthRegion</th>\n",
       "      <th>AgeGroup</th>\n",
       "      <th>Gender</th>\n",
       "      <th>Exposure</th>\n",
       "      <th>CaseStatus</th>\n",
       "      <th>Province</th>\n",
       "    </tr>\n",
       "  </thead>\n",
       "  <tbody>\n",
       "  </tbody>\n",
       "</table>\n",
       "</div>"
      ],
      "text/plain": [
       "Empty DataFrame\n",
       "Columns: [ObjectId, RowId, DateReported, HealthRegion, AgeGroup, Gender, Exposure, CaseStatus, Province]\n",
       "Index: []"
      ]
     },
     "execution_count": 15,
     "metadata": {},
     "output_type": "execute_result"
    }
   ],
   "source": [
    "df[df.duplicated(keep='first')]"
   ]
  },
  {
   "cell_type": "code",
   "execution_count": 6,
   "metadata": {},
   "outputs": [
    {
     "data": {
      "text/plain": [
       "0         2020-03-23 12:00:00+00:00\n",
       "1         2020-04-02 12:00:00+00:00\n",
       "2         2020-03-25 12:00:00+00:00\n",
       "3         2020-03-28 12:00:00+00:00\n",
       "4         2020-03-30 12:00:00+00:00\n",
       "                     ...           \n",
       "1048570   2020-11-29 12:00:00+00:00\n",
       "1048571   2020-11-30 12:00:00+00:00\n",
       "1048572   2020-11-29 12:00:00+00:00\n",
       "1048573   2020-11-30 12:00:00+00:00\n",
       "1048574   2020-11-29 12:00:00+00:00\n",
       "Name: date_reported, Length: 1048575, dtype: datetime64[ns, UTC]"
      ]
     },
     "execution_count": 6,
     "metadata": {},
     "output_type": "execute_result"
    }
   ],
   "source": [
    "df['date_reported'] =  pd.to_datetime(df['date_reported'], format='%Y/%m/%d %H:%M:%S')\n",
    "df['date_reported']"
   ]
  },
  {
   "cell_type": "code",
   "execution_count": 7,
   "metadata": {},
   "outputs": [
    {
     "data": {
      "text/plain": [
       "Male            455828\n",
       "Female          446134\n",
       "Not Reported    146613\n",
       "Name: gender, dtype: int64"
      ]
     },
     "execution_count": 7,
     "metadata": {},
     "output_type": "execute_result"
    }
   ],
   "source": [
    "df['gender'].value_counts()"
   ]
  },
  {
   "cell_type": "code",
   "execution_count": 8,
   "metadata": {},
   "outputs": [],
   "source": [
    "df['gender']=df['gender'].str.lower()"
   ]
  },
  {
   "cell_type": "code",
   "execution_count": 11,
   "metadata": {},
   "outputs": [
    {
     "data": {
      "text/plain": [
       "20-29           186800\n",
       "<20             161163\n",
       "Not Reported    157003\n",
       "30-39           156959\n",
       "40-49           134048\n",
       "50-59           120792\n",
       "60-69            74487\n",
       "70-79            36273\n",
       "80+              21050\n",
       "Name: age_group, dtype: int64"
      ]
     },
     "execution_count": 11,
     "metadata": {},
     "output_type": "execute_result"
    }
   ],
   "source": [
    "df['age_group'].value_counts()"
   ]
  },
  {
   "cell_type": "code",
   "execution_count": 12,
   "metadata": {},
   "outputs": [
    {
     "data": {
      "text/plain": [
       "Index(['ObjectId', 'row_id', 'date_reported', 'health_region', 'age_group',\n",
       "       'gender', 'exposure', 'case_status', 'province'],\n",
       "      dtype='object')"
      ]
     },
     "execution_count": 12,
     "metadata": {},
     "output_type": "execute_result"
    }
   ],
   "source": [
    "df.columns"
   ]
  },
  {
   "cell_type": "code",
   "execution_count": 14,
   "metadata": {},
   "outputs": [],
   "source": [
    "df.columns=['ObjectId', 'RowId', 'DateReported', 'HealthRegion', 'AgeGroup',\n",
    "       'Gender', 'Exposure', 'CaseStatus', 'Province']\n",
    "df.to_csv('CompileCovid19CaseDetailsCanada.csv',index=False,sep=';',date_format = '%Y/%m/%d %H:%M:%S')"
   ]
  }
 ],
 "metadata": {
  "kernelspec": {
   "display_name": "Python 3.10.8 64-bit",
   "language": "python",
   "name": "python3"
  },
  "language_info": {
   "codemirror_mode": {
    "name": "ipython",
    "version": 3
   },
   "file_extension": ".py",
   "mimetype": "text/x-python",
   "name": "python",
   "nbconvert_exporter": "python",
   "pygments_lexer": "ipython3",
   "version": "3.10.8"
  },
  "orig_nbformat": 4,
  "vscode": {
   "interpreter": {
    "hash": "e6326f7b191ddd38073533f6596c72a54afc69cb5c311f5ee537d7a883aa034a"
   }
  }
 },
 "nbformat": 4,
 "nbformat_minor": 2
}
