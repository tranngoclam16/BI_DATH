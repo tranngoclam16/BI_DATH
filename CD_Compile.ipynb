{
 "cells": [
  {
   "cell_type": "code",
   "execution_count": 139,
   "metadata": {},
   "outputs": [],
   "source": [
    "import pandas as pd\n",
    "from datetime import datetime"
   ]
  },
  {
   "cell_type": "code",
   "execution_count": 140,
   "metadata": {},
   "outputs": [
    {
     "data": {
      "text/html": [
       "<div>\n",
       "<style scoped>\n",
       "    .dataframe tbody tr th:only-of-type {\n",
       "        vertical-align: middle;\n",
       "    }\n",
       "\n",
       "    .dataframe tbody tr th {\n",
       "        vertical-align: top;\n",
       "    }\n",
       "\n",
       "    .dataframe thead th {\n",
       "        text-align: right;\n",
       "    }\n",
       "</style>\n",
       "<table border=\"1\" class=\"dataframe\">\n",
       "  <thead>\n",
       "    <tr style=\"text-align: right;\">\n",
       "      <th></th>\n",
       "      <th>ObjectId</th>\n",
       "      <th>row_id</th>\n",
       "      <th>date_reported</th>\n",
       "      <th>health_region</th>\n",
       "      <th>age_group</th>\n",
       "      <th>gender</th>\n",
       "      <th>exposure</th>\n",
       "      <th>case_status</th>\n",
       "      <th>province</th>\n",
       "    </tr>\n",
       "  </thead>\n",
       "  <tbody>\n",
       "    <tr>\n",
       "      <th>0</th>\n",
       "      <td>1</td>\n",
       "      <td>500</td>\n",
       "      <td>2020/03/23 12:00:00+00</td>\n",
       "      <td>Peel Public Health</td>\n",
       "      <td>20-29</td>\n",
       "      <td>Female</td>\n",
       "      <td>Close Contact</td>\n",
       "      <td>Recovered</td>\n",
       "      <td>Ontario</td>\n",
       "    </tr>\n",
       "    <tr>\n",
       "      <th>1</th>\n",
       "      <td>2</td>\n",
       "      <td>501</td>\n",
       "      <td>2020/04/02 12:00:00+00</td>\n",
       "      <td>Peel Public Health</td>\n",
       "      <td>40-49</td>\n",
       "      <td>Female</td>\n",
       "      <td>Close Contact</td>\n",
       "      <td>Recovered</td>\n",
       "      <td>Ontario</td>\n",
       "    </tr>\n",
       "    <tr>\n",
       "      <th>2</th>\n",
       "      <td>3</td>\n",
       "      <td>502</td>\n",
       "      <td>2020/03/25 12:00:00+00</td>\n",
       "      <td>Kingston, Frontenac and Lennox &amp; Addington Pub...</td>\n",
       "      <td>30-39</td>\n",
       "      <td>Male</td>\n",
       "      <td>Close Contact</td>\n",
       "      <td>Recovered</td>\n",
       "      <td>Ontario</td>\n",
       "    </tr>\n",
       "    <tr>\n",
       "      <th>3</th>\n",
       "      <td>4</td>\n",
       "      <td>503</td>\n",
       "      <td>2020/03/28 12:00:00+00</td>\n",
       "      <td>Kingston, Frontenac and Lennox &amp; Addington Pub...</td>\n",
       "      <td>&lt;20</td>\n",
       "      <td>Female</td>\n",
       "      <td>Close Contact</td>\n",
       "      <td>Recovered</td>\n",
       "      <td>Ontario</td>\n",
       "    </tr>\n",
       "    <tr>\n",
       "      <th>4</th>\n",
       "      <td>5</td>\n",
       "      <td>504</td>\n",
       "      <td>2020/03/30 12:00:00+00</td>\n",
       "      <td>Peel Public Health</td>\n",
       "      <td>50-59</td>\n",
       "      <td>Male</td>\n",
       "      <td>Close Contact</td>\n",
       "      <td>Recovered</td>\n",
       "      <td>Ontario</td>\n",
       "    </tr>\n",
       "  </tbody>\n",
       "</table>\n",
       "</div>"
      ],
      "text/plain": [
       "   ObjectId  row_id           date_reported  \\\n",
       "0         1     500  2020/03/23 12:00:00+00   \n",
       "1         2     501  2020/04/02 12:00:00+00   \n",
       "2         3     502  2020/03/25 12:00:00+00   \n",
       "3         4     503  2020/03/28 12:00:00+00   \n",
       "4         5     504  2020/03/30 12:00:00+00   \n",
       "\n",
       "                                       health_region age_group  gender  \\\n",
       "0                                 Peel Public Health     20-29  Female   \n",
       "1                                 Peel Public Health     40-49  Female   \n",
       "2  Kingston, Frontenac and Lennox & Addington Pub...     30-39    Male   \n",
       "3  Kingston, Frontenac and Lennox & Addington Pub...       <20  Female   \n",
       "4                                 Peel Public Health     50-59    Male   \n",
       "\n",
       "        exposure case_status province  \n",
       "0  Close Contact   Recovered  Ontario  \n",
       "1  Close Contact   Recovered  Ontario  \n",
       "2  Close Contact   Recovered  Ontario  \n",
       "3  Close Contact   Recovered  Ontario  \n",
       "4  Close Contact   Recovered  Ontario  "
      ]
     },
     "execution_count": 140,
     "metadata": {},
     "output_type": "execute_result"
    }
   ],
   "source": [
    "df=pd.read_csv('Datasource/Compiled_COVID-19_Case_Details_(Canada).csv')\n",
    "df.head()"
   ]
  },
  {
   "cell_type": "code",
   "execution_count": 141,
   "metadata": {},
   "outputs": [
    {
     "name": "stdout",
     "output_type": "stream",
     "text": [
      "<class 'pandas.core.frame.DataFrame'>\n",
      "RangeIndex: 1048575 entries, 0 to 1048574\n",
      "Data columns (total 9 columns):\n",
      " #   Column         Non-Null Count    Dtype \n",
      "---  ------         --------------    ----- \n",
      " 0   ObjectId       1048575 non-null  int64 \n",
      " 1   row_id         1048575 non-null  int64 \n",
      " 2   date_reported  1048575 non-null  object\n",
      " 3   health_region  1048575 non-null  object\n",
      " 4   age_group      1048575 non-null  object\n",
      " 5   gender         1048575 non-null  object\n",
      " 6   exposure       1048575 non-null  object\n",
      " 7   case_status    1048575 non-null  object\n",
      " 8   province       1048575 non-null  object\n",
      "dtypes: int64(2), object(7)\n",
      "memory usage: 72.0+ MB\n"
     ]
    }
   ],
   "source": [
    "df.info()"
   ]
  },
  {
   "cell_type": "code",
   "execution_count": 142,
   "metadata": {},
   "outputs": [
    {
     "data": {
      "text/plain": [
       "ObjectId         0\n",
       "row_id           0\n",
       "date_reported    0\n",
       "health_region    0\n",
       "age_group        0\n",
       "gender           0\n",
       "exposure         0\n",
       "case_status      0\n",
       "province         0\n",
       "dtype: int64"
      ]
     },
     "execution_count": 142,
     "metadata": {},
     "output_type": "execute_result"
    }
   ],
   "source": [
    "df.isnull().sum()"
   ]
  },
  {
   "cell_type": "code",
   "execution_count": 143,
   "metadata": {},
   "outputs": [
    {
     "data": {
      "text/plain": [
       "array(['Close Contact', 'Travel-Related', 'Not Reported', 'Outbreak'],\n",
       "      dtype=object)"
      ]
     },
     "execution_count": 143,
     "metadata": {},
     "output_type": "execute_result"
    }
   ],
   "source": [
    "df['exposure'].unique()"
   ]
  },
  {
   "cell_type": "code",
   "execution_count": 144,
   "metadata": {},
   "outputs": [],
   "source": [
    "df.loc[df['exposure']=='Close Contact','exposure'] = 'CC'\n",
    "df.loc[df['exposure']=='Travel-Related','exposure'] = 'TRAVEL'\n",
    "df.loc[df['exposure']=='Outbreak','exposure'] = 'OB'\n",
    "df.loc[df['exposure']=='Not Reported','exposure'] = 'NOT REPORTED'"
   ]
  },
  {
   "cell_type": "code",
   "execution_count": 145,
   "metadata": {},
   "outputs": [
    {
     "data": {
      "text/plain": [
       "array(['Recovered', 'Deceased', 'Active', 'Not Reported'], dtype=object)"
      ]
     },
     "execution_count": 145,
     "metadata": {},
     "output_type": "execute_result"
    }
   ],
   "source": [
    "df['case_status'].unique()"
   ]
  },
  {
   "cell_type": "code",
   "execution_count": 146,
   "metadata": {},
   "outputs": [
    {
     "data": {
      "text/plain": [
       "array(['Ontario', 'British Columbia', 'Alberta', 'Quebec'], dtype=object)"
      ]
     },
     "execution_count": 146,
     "metadata": {},
     "output_type": "execute_result"
    }
   ],
   "source": [
    "df['province'].unique()"
   ]
  },
  {
   "cell_type": "code",
   "execution_count": 147,
   "metadata": {},
   "outputs": [
    {
     "name": "stdout",
     "output_type": "stream",
     "text": [
      "<class 'pandas.core.frame.DataFrame'>\n",
      "Int64Index: 533761 entries, 0 to 534760\n",
      "Data columns (total 9 columns):\n",
      " #   Column         Non-Null Count   Dtype \n",
      "---  ------         --------------   ----- \n",
      " 0   ObjectId       533761 non-null  int64 \n",
      " 1   row_id         533761 non-null  int64 \n",
      " 2   date_reported  533761 non-null  object\n",
      " 3   health_region  533761 non-null  object\n",
      " 4   age_group      533761 non-null  object\n",
      " 5   gender         533761 non-null  object\n",
      " 6   exposure       533761 non-null  object\n",
      " 7   case_status    533761 non-null  object\n",
      " 8   province       533761 non-null  object\n",
      "dtypes: int64(2), object(7)\n",
      "memory usage: 40.7+ MB\n"
     ]
    }
   ],
   "source": [
    "df.drop(df[df.province != 'Ontario'].index, inplace=True)\n",
    "df.info()"
   ]
  },
  {
   "cell_type": "code",
   "execution_count": 148,
   "metadata": {},
   "outputs": [
    {
     "data": {
      "text/html": [
       "<div>\n",
       "<style scoped>\n",
       "    .dataframe tbody tr th:only-of-type {\n",
       "        vertical-align: middle;\n",
       "    }\n",
       "\n",
       "    .dataframe tbody tr th {\n",
       "        vertical-align: top;\n",
       "    }\n",
       "\n",
       "    .dataframe thead th {\n",
       "        text-align: right;\n",
       "    }\n",
       "</style>\n",
       "<table border=\"1\" class=\"dataframe\">\n",
       "  <thead>\n",
       "    <tr style=\"text-align: right;\">\n",
       "      <th></th>\n",
       "      <th>ObjectId</th>\n",
       "      <th>row_id</th>\n",
       "      <th>date_reported</th>\n",
       "      <th>health_region</th>\n",
       "      <th>age_group</th>\n",
       "      <th>gender</th>\n",
       "      <th>exposure</th>\n",
       "      <th>case_status</th>\n",
       "      <th>province</th>\n",
       "    </tr>\n",
       "  </thead>\n",
       "  <tbody>\n",
       "  </tbody>\n",
       "</table>\n",
       "</div>"
      ],
      "text/plain": [
       "Empty DataFrame\n",
       "Columns: [ObjectId, row_id, date_reported, health_region, age_group, gender, exposure, case_status, province]\n",
       "Index: []"
      ]
     },
     "execution_count": 148,
     "metadata": {},
     "output_type": "execute_result"
    }
   ],
   "source": [
    "df[df.duplicated(keep='first')]"
   ]
  },
  {
   "cell_type": "code",
   "execution_count": 149,
   "metadata": {},
   "outputs": [],
   "source": [
    "df['date_reported'] =  pd.to_datetime(df['date_reported'], format='%Y/%m/%d %H:%M:%S')"
   ]
  },
  {
   "cell_type": "code",
   "execution_count": 150,
   "metadata": {},
   "outputs": [
    {
     "data": {
      "text/plain": [
       "0        2020-03-23 12:00:00\n",
       "1        2020-04-02 12:00:00\n",
       "2        2020-03-25 12:00:00\n",
       "3        2020-03-28 12:00:00\n",
       "4        2020-03-30 12:00:00\n",
       "                 ...        \n",
       "534756   2021-01-14 12:00:00\n",
       "534757   2021-01-05 12:00:00\n",
       "534758   2021-01-06 12:00:00\n",
       "534759   2021-01-11 12:00:00\n",
       "534760   2021-01-03 12:00:00\n",
       "Name: date_reported, Length: 533761, dtype: datetime64[ns]"
      ]
     },
     "execution_count": 150,
     "metadata": {},
     "output_type": "execute_result"
    }
   ],
   "source": [
    "df['date_reported'] = df['date_reported'].dt.tz_localize(None)\n",
    "df['date_reported']"
   ]
  },
  {
   "cell_type": "code",
   "execution_count": 151,
   "metadata": {},
   "outputs": [
    {
     "data": {
      "text/plain": [
       "Male            265613\n",
       "Female          263833\n",
       "Not Reported      4315\n",
       "Name: gender, dtype: int64"
      ]
     },
     "execution_count": 151,
     "metadata": {},
     "output_type": "execute_result"
    }
   ],
   "source": [
    "df['gender'].value_counts()"
   ]
  },
  {
   "cell_type": "code",
   "execution_count": 152,
   "metadata": {},
   "outputs": [],
   "source": [
    "df['gender']=df['gender'].str.lower()"
   ]
  },
  {
   "cell_type": "code",
   "execution_count": 153,
   "metadata": {},
   "outputs": [
    {
     "data": {
      "text/plain": [
       "20-29           113009\n",
       "30-39            86866\n",
       "<20              84985\n",
       "40-49            76810\n",
       "50-59            76025\n",
       "60-69            47465\n",
       "70-79            23704\n",
       "80+              16269\n",
       "Not Reported      8628\n",
       "Name: age_group, dtype: int64"
      ]
     },
     "execution_count": 153,
     "metadata": {},
     "output_type": "execute_result"
    }
   ],
   "source": [
    "df['age_group'].value_counts()"
   ]
  },
  {
   "cell_type": "code",
   "execution_count": 154,
   "metadata": {},
   "outputs": [
    {
     "name": "stderr",
     "output_type": "stream",
     "text": [
      "C:\\Users\\ngphv\\AppData\\Local\\Temp\\ipykernel_22280\\943213306.py:1: FutureWarning: The pandas.datetime class is deprecated and will be removed from pandas in a future version. Import from datetime module instead.\n",
      "  df['CreatedDate']=pd.datetime.now()\n",
      "C:\\Users\\ngphv\\AppData\\Local\\Temp\\ipykernel_22280\\943213306.py:2: FutureWarning: The pandas.datetime class is deprecated and will be removed from pandas in a future version. Import from datetime module instead.\n",
      "  df['UpdatedDate']=pd.datetime.now()\n"
     ]
    }
   ],
   "source": [
    "df['CreatedDate']=pd.datetime.now()\n",
    "df['UpdatedDate']=pd.datetime.now()"
   ]
  },
  {
   "cell_type": "code",
   "execution_count": 157,
   "metadata": {},
   "outputs": [
    {
     "data": {
      "text/html": [
       "<div>\n",
       "<style scoped>\n",
       "    .dataframe tbody tr th:only-of-type {\n",
       "        vertical-align: middle;\n",
       "    }\n",
       "\n",
       "    .dataframe tbody tr th {\n",
       "        vertical-align: top;\n",
       "    }\n",
       "\n",
       "    .dataframe thead th {\n",
       "        text-align: right;\n",
       "    }\n",
       "</style>\n",
       "<table border=\"1\" class=\"dataframe\">\n",
       "  <thead>\n",
       "    <tr style=\"text-align: right;\">\n",
       "      <th></th>\n",
       "      <th>ObjectId</th>\n",
       "      <th>RowId</th>\n",
       "      <th>DateReported</th>\n",
       "      <th>HealthRegion</th>\n",
       "      <th>AgeGroup</th>\n",
       "      <th>Gender</th>\n",
       "      <th>Exposure</th>\n",
       "      <th>CaseStatus</th>\n",
       "      <th>Province</th>\n",
       "      <th>CreatedDate</th>\n",
       "      <th>UpdatedDate</th>\n",
       "    </tr>\n",
       "  </thead>\n",
       "  <tbody>\n",
       "    <tr>\n",
       "      <th>0</th>\n",
       "      <td>1</td>\n",
       "      <td>500</td>\n",
       "      <td>2020-03-23 12:00:00</td>\n",
       "      <td>Peel Public Health</td>\n",
       "      <td>20-29</td>\n",
       "      <td>female</td>\n",
       "      <td>CC</td>\n",
       "      <td>Recovered</td>\n",
       "      <td>Ontario</td>\n",
       "      <td>2022-11-23 12:03:46.160227</td>\n",
       "      <td>2022-11-23 12:03:46.162236</td>\n",
       "    </tr>\n",
       "    <tr>\n",
       "      <th>1</th>\n",
       "      <td>2</td>\n",
       "      <td>501</td>\n",
       "      <td>2020-04-02 12:00:00</td>\n",
       "      <td>Peel Public Health</td>\n",
       "      <td>40-49</td>\n",
       "      <td>female</td>\n",
       "      <td>CC</td>\n",
       "      <td>Recovered</td>\n",
       "      <td>Ontario</td>\n",
       "      <td>2022-11-23 12:03:46.160227</td>\n",
       "      <td>2022-11-23 12:03:46.162236</td>\n",
       "    </tr>\n",
       "    <tr>\n",
       "      <th>2</th>\n",
       "      <td>3</td>\n",
       "      <td>502</td>\n",
       "      <td>2020-03-25 12:00:00</td>\n",
       "      <td>Kingston, Frontenac and Lennox &amp; Addington Pub...</td>\n",
       "      <td>30-39</td>\n",
       "      <td>male</td>\n",
       "      <td>CC</td>\n",
       "      <td>Recovered</td>\n",
       "      <td>Ontario</td>\n",
       "      <td>2022-11-23 12:03:46.160227</td>\n",
       "      <td>2022-11-23 12:03:46.162236</td>\n",
       "    </tr>\n",
       "    <tr>\n",
       "      <th>3</th>\n",
       "      <td>4</td>\n",
       "      <td>503</td>\n",
       "      <td>2020-03-28 12:00:00</td>\n",
       "      <td>Kingston, Frontenac and Lennox &amp; Addington Pub...</td>\n",
       "      <td>&lt;20</td>\n",
       "      <td>female</td>\n",
       "      <td>CC</td>\n",
       "      <td>Recovered</td>\n",
       "      <td>Ontario</td>\n",
       "      <td>2022-11-23 12:03:46.160227</td>\n",
       "      <td>2022-11-23 12:03:46.162236</td>\n",
       "    </tr>\n",
       "    <tr>\n",
       "      <th>4</th>\n",
       "      <td>5</td>\n",
       "      <td>504</td>\n",
       "      <td>2020-03-30 12:00:00</td>\n",
       "      <td>Peel Public Health</td>\n",
       "      <td>50-59</td>\n",
       "      <td>male</td>\n",
       "      <td>CC</td>\n",
       "      <td>Recovered</td>\n",
       "      <td>Ontario</td>\n",
       "      <td>2022-11-23 12:03:46.160227</td>\n",
       "      <td>2022-11-23 12:03:46.162236</td>\n",
       "    </tr>\n",
       "  </tbody>\n",
       "</table>\n",
       "</div>"
      ],
      "text/plain": [
       "   ObjectId  RowId        DateReported  \\\n",
       "0         1    500 2020-03-23 12:00:00   \n",
       "1         2    501 2020-04-02 12:00:00   \n",
       "2         3    502 2020-03-25 12:00:00   \n",
       "3         4    503 2020-03-28 12:00:00   \n",
       "4         5    504 2020-03-30 12:00:00   \n",
       "\n",
       "                                        HealthRegion AgeGroup  Gender  \\\n",
       "0                                 Peel Public Health    20-29  female   \n",
       "1                                 Peel Public Health    40-49  female   \n",
       "2  Kingston, Frontenac and Lennox & Addington Pub...    30-39    male   \n",
       "3  Kingston, Frontenac and Lennox & Addington Pub...      <20  female   \n",
       "4                                 Peel Public Health    50-59    male   \n",
       "\n",
       "  Exposure CaseStatus Province                CreatedDate  \\\n",
       "0       CC  Recovered  Ontario 2022-11-23 12:03:46.160227   \n",
       "1       CC  Recovered  Ontario 2022-11-23 12:03:46.160227   \n",
       "2       CC  Recovered  Ontario 2022-11-23 12:03:46.160227   \n",
       "3       CC  Recovered  Ontario 2022-11-23 12:03:46.160227   \n",
       "4       CC  Recovered  Ontario 2022-11-23 12:03:46.160227   \n",
       "\n",
       "                 UpdatedDate  \n",
       "0 2022-11-23 12:03:46.162236  \n",
       "1 2022-11-23 12:03:46.162236  \n",
       "2 2022-11-23 12:03:46.162236  \n",
       "3 2022-11-23 12:03:46.162236  \n",
       "4 2022-11-23 12:03:46.162236  "
      ]
     },
     "execution_count": 157,
     "metadata": {},
     "output_type": "execute_result"
    }
   ],
   "source": [
    "df.head()"
   ]
  },
  {
   "cell_type": "code",
   "execution_count": 155,
   "metadata": {},
   "outputs": [
    {
     "data": {
      "text/plain": [
       "Index(['ObjectId', 'row_id', 'date_reported', 'health_region', 'age_group',\n",
       "       'gender', 'exposure', 'case_status', 'province', 'CreatedDate',\n",
       "       'UpdatedDate'],\n",
       "      dtype='object')"
      ]
     },
     "execution_count": 155,
     "metadata": {},
     "output_type": "execute_result"
    }
   ],
   "source": [
    "df.columns"
   ]
  },
  {
   "cell_type": "code",
   "execution_count": 156,
   "metadata": {},
   "outputs": [],
   "source": [
    "df.columns=['ObjectId', 'RowId', 'DateReported', 'HealthRegion', 'AgeGroup',\n",
    "       'Gender', 'Exposure', 'CaseStatus', 'Province','CreatedDate', 'UpdatedDate']\n",
    "df.to_excel('CompileCovid19CaseDetailsCanada.xlsx',index=False)"
   ]
  }
 ],
 "metadata": {
  "kernelspec": {
   "display_name": "Python 3.10.8 64-bit",
   "language": "python",
   "name": "python3"
  },
  "language_info": {
   "codemirror_mode": {
    "name": "ipython",
    "version": 3
   },
   "file_extension": ".py",
   "mimetype": "text/x-python",
   "name": "python",
   "nbconvert_exporter": "python",
   "pygments_lexer": "ipython3",
   "version": "3.10.8"
  },
  "orig_nbformat": 4,
  "vscode": {
   "interpreter": {
    "hash": "e6326f7b191ddd38073533f6596c72a54afc69cb5c311f5ee537d7a883aa034a"
   }
  }
 },
 "nbformat": 4,
 "nbformat_minor": 2
}
