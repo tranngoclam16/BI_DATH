{
 "cells": [
  {
   "cell_type": "code",
   "execution_count": 108,
   "metadata": {},
   "outputs": [],
   "source": [
    "import pandas as pd"
   ]
  },
  {
   "cell_type": "code",
   "execution_count": 109,
   "metadata": {},
   "outputs": [
    {
     "data": {
      "text/html": [
       "<div>\n",
       "<style scoped>\n",
       "    .dataframe tbody tr th:only-of-type {\n",
       "        vertical-align: middle;\n",
       "    }\n",
       "\n",
       "    .dataframe tbody tr th {\n",
       "        vertical-align: top;\n",
       "    }\n",
       "\n",
       "    .dataframe thead th {\n",
       "        text-align: right;\n",
       "    }\n",
       "</style>\n",
       "<table border=\"1\" class=\"dataframe\">\n",
       "  <thead>\n",
       "    <tr style=\"text-align: right;\">\n",
       "      <th></th>\n",
       "      <th>Date</th>\n",
       "      <th>PHU ID</th>\n",
       "      <th>Agegroup</th>\n",
       "      <th>At least one dose_cumulative</th>\n",
       "      <th>Second_dose_cumulative</th>\n",
       "      <th>fully_vaccinated_cumulative</th>\n",
       "      <th>third_dose_cumulative</th>\n",
       "    </tr>\n",
       "  </thead>\n",
       "  <tbody>\n",
       "    <tr>\n",
       "      <th>0</th>\n",
       "      <td>7/26/2021</td>\n",
       "      <td>2226</td>\n",
       "      <td>12-17yrs</td>\n",
       "      <td>3843.0</td>\n",
       "      <td>1890.0</td>\n",
       "      <td>NaN</td>\n",
       "      <td>NaN</td>\n",
       "    </tr>\n",
       "    <tr>\n",
       "      <th>1</th>\n",
       "      <td>7/26/2021</td>\n",
       "      <td>2227</td>\n",
       "      <td>12-17yrs</td>\n",
       "      <td>6306.0</td>\n",
       "      <td>3567.0</td>\n",
       "      <td>NaN</td>\n",
       "      <td>NaN</td>\n",
       "    </tr>\n",
       "    <tr>\n",
       "      <th>2</th>\n",
       "      <td>7/26/2021</td>\n",
       "      <td>2230</td>\n",
       "      <td>12-17yrs</td>\n",
       "      <td>34025.0</td>\n",
       "      <td>16953.0</td>\n",
       "      <td>NaN</td>\n",
       "      <td>NaN</td>\n",
       "    </tr>\n",
       "    <tr>\n",
       "      <th>3</th>\n",
       "      <td>7/26/2021</td>\n",
       "      <td>2233</td>\n",
       "      <td>12-17yrs</td>\n",
       "      <td>5533.0</td>\n",
       "      <td>3627.0</td>\n",
       "      <td>NaN</td>\n",
       "      <td>NaN</td>\n",
       "    </tr>\n",
       "    <tr>\n",
       "      <th>4</th>\n",
       "      <td>7/26/2021</td>\n",
       "      <td>2234</td>\n",
       "      <td>12-17yrs</td>\n",
       "      <td>3125.0</td>\n",
       "      <td>1711.0</td>\n",
       "      <td>NaN</td>\n",
       "      <td>NaN</td>\n",
       "    </tr>\n",
       "  </tbody>\n",
       "</table>\n",
       "</div>"
      ],
      "text/plain": [
       "        Date  PHU ID  Agegroup  At least one dose_cumulative  \\\n",
       "0  7/26/2021    2226  12-17yrs                        3843.0   \n",
       "1  7/26/2021    2227  12-17yrs                        6306.0   \n",
       "2  7/26/2021    2230  12-17yrs                       34025.0   \n",
       "3  7/26/2021    2233  12-17yrs                        5533.0   \n",
       "4  7/26/2021    2234  12-17yrs                        3125.0   \n",
       "\n",
       "   Second_dose_cumulative  fully_vaccinated_cumulative  third_dose_cumulative  \n",
       "0                  1890.0                          NaN                    NaN  \n",
       "1                  3567.0                          NaN                    NaN  \n",
       "2                 16953.0                          NaN                    NaN  \n",
       "3                  3627.0                          NaN                    NaN  \n",
       "4                  1711.0                          NaN                    NaN  "
      ]
     },
     "execution_count": 109,
     "metadata": {},
     "output_type": "execute_result"
    }
   ],
   "source": [
    "#'vaccines_by_age_phu.csv'\n",
    "vaccine = pd.read_csv('vaccines_by_age_phu.csv')\n",
    "vaccine.head()"
   ]
  },
  {
   "cell_type": "code",
   "execution_count": 110,
   "metadata": {},
   "outputs": [
    {
     "name": "stdout",
     "output_type": "stream",
     "text": [
      "<class 'pandas.core.frame.DataFrame'>\n",
      "RangeIndex: 171182 entries, 0 to 171181\n",
      "Data columns (total 7 columns):\n",
      " #   Column                        Non-Null Count   Dtype  \n",
      "---  ------                        --------------   -----  \n",
      " 0   Date                          171182 non-null  object \n",
      " 1   PHU ID                        171182 non-null  int64  \n",
      " 2   Agegroup                      171182 non-null  object \n",
      " 3   At least one dose_cumulative  170971 non-null  float64\n",
      " 4   Second_dose_cumulative        48642 non-null   float64\n",
      " 5   fully_vaccinated_cumulative   121912 non-null  float64\n",
      " 6   third_dose_cumulative         106015 non-null  float64\n",
      "dtypes: float64(4), int64(1), object(2)\n",
      "memory usage: 9.1+ MB\n"
     ]
    }
   ],
   "source": [
    "vaccine.info()"
   ]
  },
  {
   "cell_type": "code",
   "execution_count": 111,
   "metadata": {},
   "outputs": [
    {
     "data": {
      "text/plain": [
       "array(['12-17yrs', '18-29yrs', '30-39yrs', '40-49yrs', '50-59yrs',\n",
       "       '60-69yrs', '70-79yrs', '80+', 'Adults_18plus', 'Ontario_12plus',\n",
       "       'Undisclosed_or_missing', '05-11yrs', 'Ontario_5plus'],\n",
       "      dtype=object)"
      ]
     },
     "execution_count": 111,
     "metadata": {},
     "output_type": "execute_result"
    }
   ],
   "source": [
    "vaccine['Agegroup'].unique()"
   ]
  },
  {
   "cell_type": "code",
   "execution_count": 112,
   "metadata": {},
   "outputs": [],
   "source": [
    "vaccine.loc[vaccine['Agegroup']=='05-11yrs','Agegroup'] = '05-11'\n",
    "vaccine.loc[vaccine['Agegroup']=='12-17yrs','Agegroup'] = '12-17'\n",
    "vaccine.loc[vaccine['Agegroup']=='18-29yrs','Agegroup'] = '18-29'\n",
    "vaccine.loc[vaccine['Agegroup']=='30-39yrs','Agegroup'] = '30-39'\n",
    "vaccine.loc[vaccine['Agegroup']=='40-49yrs','Agegroup'] = '40-49'\n",
    "vaccine.loc[vaccine['Agegroup']=='50-59yrs','Agegroup'] = '50-59'\n",
    "vaccine.loc[vaccine['Agegroup']=='60-69yrs','Agegroup'] = '60-69'\n",
    "vaccine.loc[vaccine['Agegroup']=='70-79yrs','Agegroup'] = '70-79'\n",
    "vaccine.loc[vaccine['Agegroup']=='Undisclosed_or_missing','Agegroup'] = 'Not Reported'"
   ]
  },
  {
   "cell_type": "code",
   "execution_count": 113,
   "metadata": {},
   "outputs": [],
   "source": [
    "vaccine=vaccine.fillna(0)"
   ]
  },
  {
   "cell_type": "code",
   "execution_count": 114,
   "metadata": {},
   "outputs": [
    {
     "data": {
      "text/plain": [
       "array([0.])"
      ]
     },
     "execution_count": 114,
     "metadata": {},
     "output_type": "execute_result"
    }
   ],
   "source": [
    "vaccine[vaccine['fully_vaccinated_cumulative']>0]['Second_dose_cumulative'].unique()"
   ]
  },
  {
   "cell_type": "code",
   "execution_count": 115,
   "metadata": {},
   "outputs": [
    {
     "data": {
      "text/plain": [
       "array([0.])"
      ]
     },
     "execution_count": 115,
     "metadata": {},
     "output_type": "execute_result"
    }
   ],
   "source": [
    "vaccine[vaccine['Second_dose_cumulative']>0]['fully_vaccinated_cumulative'].unique()"
   ]
  },
  {
   "cell_type": "code",
   "execution_count": 116,
   "metadata": {},
   "outputs": [],
   "source": [
    "vaccine=vaccine.drop(vaccine[(vaccine['Second_dose_cumulative'] ==0) & (vaccine['fully_vaccinated_cumulative']==0)].index)"
   ]
  },
  {
   "cell_type": "code",
   "execution_count": 117,
   "metadata": {},
   "outputs": [],
   "source": [
    "vaccine.drop(vaccine[vaccine['PHU ID'] == 9999].index, inplace=True)"
   ]
  },
  {
   "cell_type": "code",
   "execution_count": 118,
   "metadata": {},
   "outputs": [
    {
     "data": {
      "text/html": [
       "<div>\n",
       "<style scoped>\n",
       "    .dataframe tbody tr th:only-of-type {\n",
       "        vertical-align: middle;\n",
       "    }\n",
       "\n",
       "    .dataframe tbody tr th {\n",
       "        vertical-align: top;\n",
       "    }\n",
       "\n",
       "    .dataframe thead th {\n",
       "        text-align: right;\n",
       "    }\n",
       "</style>\n",
       "<table border=\"1\" class=\"dataframe\">\n",
       "  <thead>\n",
       "    <tr style=\"text-align: right;\">\n",
       "      <th></th>\n",
       "      <th>PHUID</th>\n",
       "      <th>ReportingPHU</th>\n",
       "      <th>ReportingPHUAddress</th>\n",
       "      <th>ReportingPHUCity</th>\n",
       "      <th>ReportingPHUPostalCode</th>\n",
       "      <th>ReportingPHUWebsite</th>\n",
       "      <th>ReportingPHULatitude</th>\n",
       "      <th>ReportingPHULongitude</th>\n",
       "      <th>CreatedDate</th>\n",
       "      <th>UpdatedDate</th>\n",
       "    </tr>\n",
       "  </thead>\n",
       "  <tbody>\n",
       "    <tr>\n",
       "      <th>0</th>\n",
       "      <td>2244</td>\n",
       "      <td>Middlesex-London Health Unit</td>\n",
       "      <td>50 King Street</td>\n",
       "      <td>London</td>\n",
       "      <td>N6A 5L7</td>\n",
       "      <td>www.healthunit.com</td>\n",
       "      <td>42.981468</td>\n",
       "      <td>-81.254016</td>\n",
       "      <td>2022-11-23 11:32:31.688</td>\n",
       "      <td>2022-11-23 11:32:31.690</td>\n",
       "    </tr>\n",
       "    <tr>\n",
       "      <th>1</th>\n",
       "      <td>2236</td>\n",
       "      <td>Halton Region Health Department</td>\n",
       "      <td>1151 Bronte Road</td>\n",
       "      <td>Oakville</td>\n",
       "      <td>L6M 3Ll</td>\n",
       "      <td>www.halton.ca/For-Residents/Public-Health/</td>\n",
       "      <td>43.413997</td>\n",
       "      <td>-79.744796</td>\n",
       "      <td>2022-11-23 11:32:31.688</td>\n",
       "      <td>2022-11-23 11:32:31.690</td>\n",
       "    </tr>\n",
       "    <tr>\n",
       "      <th>2</th>\n",
       "      <td>3895</td>\n",
       "      <td>Toronto Public Health</td>\n",
       "      <td>277 Victoria Street, 5th Floor</td>\n",
       "      <td>Toronto</td>\n",
       "      <td>M5B 1W2</td>\n",
       "      <td>www.toronto.ca/community-people/health-wellnes...</td>\n",
       "      <td>43.656591</td>\n",
       "      <td>-79.379358</td>\n",
       "      <td>2022-11-23 11:32:31.688</td>\n",
       "      <td>2022-11-23 11:32:31.690</td>\n",
       "    </tr>\n",
       "    <tr>\n",
       "      <th>3</th>\n",
       "      <td>5183</td>\n",
       "      <td>Huron Perth District Health Unit</td>\n",
       "      <td>653 West Gore Street</td>\n",
       "      <td>Stratford</td>\n",
       "      <td>N5A 1L4</td>\n",
       "      <td>www.hpph.ca</td>\n",
       "      <td>43.368662</td>\n",
       "      <td>-81.001913</td>\n",
       "      <td>2022-11-23 11:32:31.688</td>\n",
       "      <td>2022-11-23 11:32:31.690</td>\n",
       "    </tr>\n",
       "    <tr>\n",
       "      <th>4</th>\n",
       "      <td>2266</td>\n",
       "      <td>Wellington-Dufferin-Guelph Public Health</td>\n",
       "      <td>160 Chancellors Way</td>\n",
       "      <td>Guelph</td>\n",
       "      <td>N1G 0E1</td>\n",
       "      <td>www.wdgpublichealth.ca</td>\n",
       "      <td>43.524881</td>\n",
       "      <td>-80.233743</td>\n",
       "      <td>2022-11-23 11:32:31.688</td>\n",
       "      <td>2022-11-23 11:32:31.690</td>\n",
       "    </tr>\n",
       "  </tbody>\n",
       "</table>\n",
       "</div>"
      ],
      "text/plain": [
       "   PHUID                              ReportingPHU  \\\n",
       "0   2244              Middlesex-London Health Unit   \n",
       "1   2236           Halton Region Health Department   \n",
       "2   3895                     Toronto Public Health   \n",
       "3   5183          Huron Perth District Health Unit   \n",
       "4   2266  Wellington-Dufferin-Guelph Public Health   \n",
       "\n",
       "              ReportingPHUAddress ReportingPHUCity ReportingPHUPostalCode  \\\n",
       "0                  50 King Street           London                N6A 5L7   \n",
       "1                1151 Bronte Road         Oakville                L6M 3Ll   \n",
       "2  277 Victoria Street, 5th Floor          Toronto                M5B 1W2   \n",
       "3            653 West Gore Street        Stratford                N5A 1L4   \n",
       "4             160 Chancellors Way           Guelph                N1G 0E1   \n",
       "\n",
       "                                 ReportingPHUWebsite  ReportingPHULatitude  \\\n",
       "0                                 www.healthunit.com             42.981468   \n",
       "1         www.halton.ca/For-Residents/Public-Health/             43.413997   \n",
       "2  www.toronto.ca/community-people/health-wellnes...             43.656591   \n",
       "3                                        www.hpph.ca             43.368662   \n",
       "4                             www.wdgpublichealth.ca             43.524881   \n",
       "\n",
       "   ReportingPHULongitude             CreatedDate             UpdatedDate  \n",
       "0             -81.254016 2022-11-23 11:32:31.688 2022-11-23 11:32:31.690  \n",
       "1             -79.744796 2022-11-23 11:32:31.688 2022-11-23 11:32:31.690  \n",
       "2             -79.379358 2022-11-23 11:32:31.688 2022-11-23 11:32:31.690  \n",
       "3             -81.001913 2022-11-23 11:32:31.688 2022-11-23 11:32:31.690  \n",
       "4             -80.233743 2022-11-23 11:32:31.688 2022-11-23 11:32:31.690  "
      ]
     },
     "execution_count": 118,
     "metadata": {},
     "output_type": "execute_result"
    }
   ],
   "source": [
    "df=pd.read_excel('PublicHealthUnit.xlsx')\n",
    "df.head()"
   ]
  },
  {
   "cell_type": "code",
   "execution_count": 119,
   "metadata": {},
   "outputs": [
    {
     "data": {
      "text/html": [
       "<div>\n",
       "<style scoped>\n",
       "    .dataframe tbody tr th:only-of-type {\n",
       "        vertical-align: middle;\n",
       "    }\n",
       "\n",
       "    .dataframe tbody tr th {\n",
       "        vertical-align: top;\n",
       "    }\n",
       "\n",
       "    .dataframe thead th {\n",
       "        text-align: right;\n",
       "    }\n",
       "</style>\n",
       "<table border=\"1\" class=\"dataframe\">\n",
       "  <thead>\n",
       "    <tr style=\"text-align: right;\">\n",
       "      <th></th>\n",
       "      <th>PHUID</th>\n",
       "      <th>ReportingPHU</th>\n",
       "      <th>ReportingPHUAddress</th>\n",
       "      <th>ReportingPHUCity</th>\n",
       "      <th>ReportingPHUPostalCode</th>\n",
       "      <th>ReportingPHUWebsite</th>\n",
       "      <th>ReportingPHULatitude</th>\n",
       "      <th>ReportingPHULongitude</th>\n",
       "      <th>CreatedDate</th>\n",
       "      <th>UpdatedDate</th>\n",
       "    </tr>\n",
       "  </thead>\n",
       "  <tbody>\n",
       "    <tr>\n",
       "      <th>7</th>\n",
       "      <td>2253</td>\n",
       "      <td>Peel Public Health</td>\n",
       "      <td>7120 Hurontario Street</td>\n",
       "      <td>Mississauga</td>\n",
       "      <td>L5W 1N4</td>\n",
       "      <td>www.peelregion.ca/health/</td>\n",
       "      <td>43.647471</td>\n",
       "      <td>-79.708893</td>\n",
       "      <td>2022-11-23 11:32:31.688</td>\n",
       "      <td>2022-11-23 11:32:31.690</td>\n",
       "    </tr>\n",
       "  </tbody>\n",
       "</table>\n",
       "</div>"
      ],
      "text/plain": [
       "   PHUID        ReportingPHU     ReportingPHUAddress ReportingPHUCity  \\\n",
       "7   2253  Peel Public Health  7120 Hurontario Street      Mississauga   \n",
       "\n",
       "  ReportingPHUPostalCode        ReportingPHUWebsite  ReportingPHULatitude  \\\n",
       "7                L5W 1N4  www.peelregion.ca/health/             43.647471   \n",
       "\n",
       "   ReportingPHULongitude             CreatedDate             UpdatedDate  \n",
       "7             -79.708893 2022-11-23 11:32:31.688 2022-11-23 11:32:31.690  "
      ]
     },
     "execution_count": 119,
     "metadata": {},
     "output_type": "execute_result"
    }
   ],
   "source": [
    "df.loc[df['PHUID'] == 2253]"
   ]
  },
  {
   "cell_type": "code",
   "execution_count": 120,
   "metadata": {},
   "outputs": [
    {
     "data": {
      "text/plain": [
       "array([2244, 2236, 3895, 5183, 2266, 2263, 2262, 2253, 2261, 2230, 2237,\n",
       "       2268, 2265, 2260, 4913, 2226, 2243, 2238, 2247, 2270, 2249, 2255,\n",
       "       2233, 2241, 2256, 2257, 2251, 2227, 2234, 2235, 2246, 2258, 2242,\n",
       "       2240], dtype=int64)"
      ]
     },
     "execution_count": 120,
     "metadata": {},
     "output_type": "execute_result"
    }
   ],
   "source": [
    "df['PHUID'].unique()"
   ]
  },
  {
   "cell_type": "code",
   "execution_count": 121,
   "metadata": {},
   "outputs": [],
   "source": [
    "#vaccine['PHUID'].unique()"
   ]
  },
  {
   "cell_type": "code",
   "execution_count": 122,
   "metadata": {},
   "outputs": [],
   "source": [
    "vaccine.drop(vaccine[vaccine['PHU ID'] == 9999].index, inplace=True)"
   ]
  },
  {
   "cell_type": "code",
   "execution_count": 123,
   "metadata": {},
   "outputs": [
    {
     "data": {
      "text/html": [
       "<div>\n",
       "<style scoped>\n",
       "    .dataframe tbody tr th:only-of-type {\n",
       "        vertical-align: middle;\n",
       "    }\n",
       "\n",
       "    .dataframe tbody tr th {\n",
       "        vertical-align: top;\n",
       "    }\n",
       "\n",
       "    .dataframe thead th {\n",
       "        text-align: right;\n",
       "    }\n",
       "</style>\n",
       "<table border=\"1\" class=\"dataframe\">\n",
       "  <thead>\n",
       "    <tr style=\"text-align: right;\">\n",
       "      <th></th>\n",
       "      <th>Date</th>\n",
       "      <th>PHU ID</th>\n",
       "      <th>Agegroup</th>\n",
       "      <th>At least one dose_cumulative</th>\n",
       "      <th>Second_dose_cumulative</th>\n",
       "      <th>fully_vaccinated_cumulative</th>\n",
       "      <th>third_dose_cumulative</th>\n",
       "    </tr>\n",
       "  </thead>\n",
       "  <tbody>\n",
       "  </tbody>\n",
       "</table>\n",
       "</div>"
      ],
      "text/plain": [
       "Empty DataFrame\n",
       "Columns: [Date, PHU ID, Agegroup, At least one dose_cumulative, Second_dose_cumulative, fully_vaccinated_cumulative, third_dose_cumulative]\n",
       "Index: []"
      ]
     },
     "execution_count": 123,
     "metadata": {},
     "output_type": "execute_result"
    }
   ],
   "source": [
    "vaccine.loc[vaccine['PHU ID'] == 9999]"
   ]
  },
  {
   "cell_type": "code",
   "execution_count": 124,
   "metadata": {},
   "outputs": [
    {
     "name": "stderr",
     "output_type": "stream",
     "text": [
      "C:\\Users\\ngphv\\AppData\\Local\\Temp\\ipykernel_17584\\859321333.py:1: FutureWarning: The pandas.datetime class is deprecated and will be removed from pandas in a future version. Import from datetime module instead.\n",
      "  vaccine['CreatedDate']=pd.datetime.now()\n",
      "C:\\Users\\ngphv\\AppData\\Local\\Temp\\ipykernel_17584\\859321333.py:2: FutureWarning: The pandas.datetime class is deprecated and will be removed from pandas in a future version. Import from datetime module instead.\n",
      "  vaccine['UpdatedDate']=pd.datetime.now()\n"
     ]
    },
    {
     "data": {
      "text/html": [
       "<div>\n",
       "<style scoped>\n",
       "    .dataframe tbody tr th:only-of-type {\n",
       "        vertical-align: middle;\n",
       "    }\n",
       "\n",
       "    .dataframe tbody tr th {\n",
       "        vertical-align: top;\n",
       "    }\n",
       "\n",
       "    .dataframe thead th {\n",
       "        text-align: right;\n",
       "    }\n",
       "</style>\n",
       "<table border=\"1\" class=\"dataframe\">\n",
       "  <thead>\n",
       "    <tr style=\"text-align: right;\">\n",
       "      <th></th>\n",
       "      <th>Date</th>\n",
       "      <th>PHU ID</th>\n",
       "      <th>Agegroup</th>\n",
       "      <th>At least one dose_cumulative</th>\n",
       "      <th>Second_dose_cumulative</th>\n",
       "      <th>fully_vaccinated_cumulative</th>\n",
       "      <th>third_dose_cumulative</th>\n",
       "      <th>CreatedDate</th>\n",
       "      <th>UpdatedDate</th>\n",
       "    </tr>\n",
       "  </thead>\n",
       "  <tbody>\n",
       "    <tr>\n",
       "      <th>0</th>\n",
       "      <td>2021-07-26</td>\n",
       "      <td>2226</td>\n",
       "      <td>12-17</td>\n",
       "      <td>3843.0</td>\n",
       "      <td>1890.0</td>\n",
       "      <td>0.0</td>\n",
       "      <td>0.0</td>\n",
       "      <td>2022-11-30 20:22:29.375623</td>\n",
       "      <td>2022-11-30 20:22:29.377623</td>\n",
       "    </tr>\n",
       "    <tr>\n",
       "      <th>1</th>\n",
       "      <td>2021-07-26</td>\n",
       "      <td>2227</td>\n",
       "      <td>12-17</td>\n",
       "      <td>6306.0</td>\n",
       "      <td>3567.0</td>\n",
       "      <td>0.0</td>\n",
       "      <td>0.0</td>\n",
       "      <td>2022-11-30 20:22:29.375623</td>\n",
       "      <td>2022-11-30 20:22:29.377623</td>\n",
       "    </tr>\n",
       "    <tr>\n",
       "      <th>2</th>\n",
       "      <td>2021-07-26</td>\n",
       "      <td>2230</td>\n",
       "      <td>12-17</td>\n",
       "      <td>34025.0</td>\n",
       "      <td>16953.0</td>\n",
       "      <td>0.0</td>\n",
       "      <td>0.0</td>\n",
       "      <td>2022-11-30 20:22:29.375623</td>\n",
       "      <td>2022-11-30 20:22:29.377623</td>\n",
       "    </tr>\n",
       "    <tr>\n",
       "      <th>3</th>\n",
       "      <td>2021-07-26</td>\n",
       "      <td>2233</td>\n",
       "      <td>12-17</td>\n",
       "      <td>5533.0</td>\n",
       "      <td>3627.0</td>\n",
       "      <td>0.0</td>\n",
       "      <td>0.0</td>\n",
       "      <td>2022-11-30 20:22:29.375623</td>\n",
       "      <td>2022-11-30 20:22:29.377623</td>\n",
       "    </tr>\n",
       "    <tr>\n",
       "      <th>4</th>\n",
       "      <td>2021-07-26</td>\n",
       "      <td>2234</td>\n",
       "      <td>12-17</td>\n",
       "      <td>3125.0</td>\n",
       "      <td>1711.0</td>\n",
       "      <td>0.0</td>\n",
       "      <td>0.0</td>\n",
       "      <td>2022-11-30 20:22:29.375623</td>\n",
       "      <td>2022-11-30 20:22:29.377623</td>\n",
       "    </tr>\n",
       "    <tr>\n",
       "      <th>...</th>\n",
       "      <td>...</td>\n",
       "      <td>...</td>\n",
       "      <td>...</td>\n",
       "      <td>...</td>\n",
       "      <td>...</td>\n",
       "      <td>...</td>\n",
       "      <td>...</td>\n",
       "      <td>...</td>\n",
       "      <td>...</td>\n",
       "    </tr>\n",
       "    <tr>\n",
       "      <th>171176</th>\n",
       "      <td>2022-08-25</td>\n",
       "      <td>2268</td>\n",
       "      <td>Not Reported</td>\n",
       "      <td>312.0</td>\n",
       "      <td>0.0</td>\n",
       "      <td>18.0</td>\n",
       "      <td>0.0</td>\n",
       "      <td>2022-11-30 20:22:29.375623</td>\n",
       "      <td>2022-11-30 20:22:29.377623</td>\n",
       "    </tr>\n",
       "    <tr>\n",
       "      <th>171177</th>\n",
       "      <td>2022-08-25</td>\n",
       "      <td>2270</td>\n",
       "      <td>Not Reported</td>\n",
       "      <td>1856.0</td>\n",
       "      <td>0.0</td>\n",
       "      <td>40.0</td>\n",
       "      <td>0.0</td>\n",
       "      <td>2022-11-30 20:22:29.375623</td>\n",
       "      <td>2022-11-30 20:22:29.377623</td>\n",
       "    </tr>\n",
       "    <tr>\n",
       "      <th>171178</th>\n",
       "      <td>2022-08-25</td>\n",
       "      <td>3895</td>\n",
       "      <td>Not Reported</td>\n",
       "      <td>7393.0</td>\n",
       "      <td>0.0</td>\n",
       "      <td>216.0</td>\n",
       "      <td>14.0</td>\n",
       "      <td>2022-11-30 20:22:29.375623</td>\n",
       "      <td>2022-11-30 20:22:29.377623</td>\n",
       "    </tr>\n",
       "    <tr>\n",
       "      <th>171179</th>\n",
       "      <td>2022-08-25</td>\n",
       "      <td>4913</td>\n",
       "      <td>Not Reported</td>\n",
       "      <td>200.0</td>\n",
       "      <td>0.0</td>\n",
       "      <td>2.0</td>\n",
       "      <td>0.0</td>\n",
       "      <td>2022-11-30 20:22:29.375623</td>\n",
       "      <td>2022-11-30 20:22:29.377623</td>\n",
       "    </tr>\n",
       "    <tr>\n",
       "      <th>171180</th>\n",
       "      <td>2022-08-25</td>\n",
       "      <td>5183</td>\n",
       "      <td>Not Reported</td>\n",
       "      <td>250.0</td>\n",
       "      <td>0.0</td>\n",
       "      <td>2.0</td>\n",
       "      <td>0.0</td>\n",
       "      <td>2022-11-30 20:22:29.375623</td>\n",
       "      <td>2022-11-30 20:22:29.377623</td>\n",
       "    </tr>\n",
       "  </tbody>\n",
       "</table>\n",
       "<p>164378 rows × 9 columns</p>\n",
       "</div>"
      ],
      "text/plain": [
       "             Date  PHU ID      Agegroup  At least one dose_cumulative  \\\n",
       "0      2021-07-26    2226         12-17                        3843.0   \n",
       "1      2021-07-26    2227         12-17                        6306.0   \n",
       "2      2021-07-26    2230         12-17                       34025.0   \n",
       "3      2021-07-26    2233         12-17                        5533.0   \n",
       "4      2021-07-26    2234         12-17                        3125.0   \n",
       "...           ...     ...           ...                           ...   \n",
       "171176 2022-08-25    2268  Not Reported                         312.0   \n",
       "171177 2022-08-25    2270  Not Reported                        1856.0   \n",
       "171178 2022-08-25    3895  Not Reported                        7393.0   \n",
       "171179 2022-08-25    4913  Not Reported                         200.0   \n",
       "171180 2022-08-25    5183  Not Reported                         250.0   \n",
       "\n",
       "        Second_dose_cumulative  fully_vaccinated_cumulative  \\\n",
       "0                       1890.0                          0.0   \n",
       "1                       3567.0                          0.0   \n",
       "2                      16953.0                          0.0   \n",
       "3                       3627.0                          0.0   \n",
       "4                       1711.0                          0.0   \n",
       "...                        ...                          ...   \n",
       "171176                     0.0                         18.0   \n",
       "171177                     0.0                         40.0   \n",
       "171178                     0.0                        216.0   \n",
       "171179                     0.0                          2.0   \n",
       "171180                     0.0                          2.0   \n",
       "\n",
       "        third_dose_cumulative                CreatedDate  \\\n",
       "0                         0.0 2022-11-30 20:22:29.375623   \n",
       "1                         0.0 2022-11-30 20:22:29.375623   \n",
       "2                         0.0 2022-11-30 20:22:29.375623   \n",
       "3                         0.0 2022-11-30 20:22:29.375623   \n",
       "4                         0.0 2022-11-30 20:22:29.375623   \n",
       "...                       ...                        ...   \n",
       "171176                    0.0 2022-11-30 20:22:29.375623   \n",
       "171177                    0.0 2022-11-30 20:22:29.375623   \n",
       "171178                   14.0 2022-11-30 20:22:29.375623   \n",
       "171179                    0.0 2022-11-30 20:22:29.375623   \n",
       "171180                    0.0 2022-11-30 20:22:29.375623   \n",
       "\n",
       "                      UpdatedDate  \n",
       "0      2022-11-30 20:22:29.377623  \n",
       "1      2022-11-30 20:22:29.377623  \n",
       "2      2022-11-30 20:22:29.377623  \n",
       "3      2022-11-30 20:22:29.377623  \n",
       "4      2022-11-30 20:22:29.377623  \n",
       "...                           ...  \n",
       "171176 2022-11-30 20:22:29.377623  \n",
       "171177 2022-11-30 20:22:29.377623  \n",
       "171178 2022-11-30 20:22:29.377623  \n",
       "171179 2022-11-30 20:22:29.377623  \n",
       "171180 2022-11-30 20:22:29.377623  \n",
       "\n",
       "[164378 rows x 9 columns]"
      ]
     },
     "execution_count": 124,
     "metadata": {},
     "output_type": "execute_result"
    }
   ],
   "source": [
    "vaccine['CreatedDate']=pd.datetime.now()\n",
    "vaccine['UpdatedDate']=pd.datetime.now()\n",
    "vaccine['Date'] =  pd.to_datetime(vaccine['Date'], format='%m/%d/%Y')\n",
    "vaccine"
   ]
  },
  {
   "cell_type": "code",
   "execution_count": 125,
   "metadata": {},
   "outputs": [
    {
     "data": {
      "text/plain": [
       "Index(['Date', 'PHU ID', 'Agegroup', 'At least one dose_cumulative',\n",
       "       'Second_dose_cumulative', 'fully_vaccinated_cumulative',\n",
       "       'third_dose_cumulative', 'CreatedDate', 'UpdatedDate'],\n",
       "      dtype='object')"
      ]
     },
     "execution_count": 125,
     "metadata": {},
     "output_type": "execute_result"
    }
   ],
   "source": [
    "vaccine.columns"
   ]
  },
  {
   "cell_type": "code",
   "execution_count": 126,
   "metadata": {},
   "outputs": [],
   "source": [
    "vaccine.columns=['Date', 'PHUID', 'AgeGroup', 'At_least_one_dose_cumulative',\n",
    "       'Second_dose_cumulative', 'fully_vaccinated_cumulative',\n",
    "       'third_dose_cumulative', 'CreatedDate', 'UpdatedDate']\n",
    "vaccine.to_excel('VaccinesByAgePHU1.xlsx',index=False)"
   ]
  },
  {
   "cell_type": "code",
   "execution_count": 127,
   "metadata": {},
   "outputs": [],
   "source": [
    "df1=pd.read_excel('VaccinesByAgePHU1.xlsx')\n"
   ]
  },
  {
   "cell_type": "code",
   "execution_count": 128,
   "metadata": {},
   "outputs": [
    {
     "data": {
      "text/html": [
       "<div>\n",
       "<style scoped>\n",
       "    .dataframe tbody tr th:only-of-type {\n",
       "        vertical-align: middle;\n",
       "    }\n",
       "\n",
       "    .dataframe tbody tr th {\n",
       "        vertical-align: top;\n",
       "    }\n",
       "\n",
       "    .dataframe thead th {\n",
       "        text-align: right;\n",
       "    }\n",
       "</style>\n",
       "<table border=\"1\" class=\"dataframe\">\n",
       "  <thead>\n",
       "    <tr style=\"text-align: right;\">\n",
       "      <th></th>\n",
       "      <th>Date</th>\n",
       "      <th>PHUID</th>\n",
       "      <th>AgeGroup</th>\n",
       "      <th>At_least_one_dose_cumulative</th>\n",
       "      <th>Second_dose_cumulative</th>\n",
       "      <th>fully_vaccinated_cumulative</th>\n",
       "      <th>third_dose_cumulative</th>\n",
       "      <th>CreatedDate</th>\n",
       "      <th>UpdatedDate</th>\n",
       "    </tr>\n",
       "  </thead>\n",
       "  <tbody>\n",
       "  </tbody>\n",
       "</table>\n",
       "</div>"
      ],
      "text/plain": [
       "Empty DataFrame\n",
       "Columns: [Date, PHUID, AgeGroup, At_least_one_dose_cumulative, Second_dose_cumulative, fully_vaccinated_cumulative, third_dose_cumulative, CreatedDate, UpdatedDate]\n",
       "Index: []"
      ]
     },
     "execution_count": 128,
     "metadata": {},
     "output_type": "execute_result"
    }
   ],
   "source": [
    "df1[df1['PHUID']==9999]"
   ]
  },
  {
   "cell_type": "code",
   "execution_count": 129,
   "metadata": {},
   "outputs": [
    {
     "name": "stdout",
     "output_type": "stream",
     "text": [
      "<class 'pandas.core.frame.DataFrame'>\n",
      "RangeIndex: 164378 entries, 0 to 164377\n",
      "Data columns (total 9 columns):\n",
      " #   Column                        Non-Null Count   Dtype         \n",
      "---  ------                        --------------   -----         \n",
      " 0   Date                          164378 non-null  datetime64[ns]\n",
      " 1   PHUID                         164378 non-null  int64         \n",
      " 2   AgeGroup                      164378 non-null  object        \n",
      " 3   At_least_one_dose_cumulative  164378 non-null  int64         \n",
      " 4   Second_dose_cumulative        164378 non-null  int64         \n",
      " 5   fully_vaccinated_cumulative   164378 non-null  int64         \n",
      " 6   third_dose_cumulative         164378 non-null  int64         \n",
      " 7   CreatedDate                   164378 non-null  datetime64[ns]\n",
      " 8   UpdatedDate                   164378 non-null  datetime64[ns]\n",
      "dtypes: datetime64[ns](3), int64(5), object(1)\n",
      "memory usage: 11.3+ MB\n"
     ]
    }
   ],
   "source": [
    "df1.info()"
   ]
  },
  {
   "cell_type": "code",
   "execution_count": null,
   "metadata": {},
   "outputs": [],
   "source": []
  }
 ],
 "metadata": {
  "kernelspec": {
   "display_name": "Python 3.10.8 64-bit",
   "language": "python",
   "name": "python3"
  },
  "language_info": {
   "codemirror_mode": {
    "name": "ipython",
    "version": 3
   },
   "file_extension": ".py",
   "mimetype": "text/x-python",
   "name": "python",
   "nbconvert_exporter": "python",
   "pygments_lexer": "ipython3",
   "version": "3.10.8"
  },
  "orig_nbformat": 4,
  "vscode": {
   "interpreter": {
    "hash": "e6326f7b191ddd38073533f6596c72a54afc69cb5c311f5ee537d7a883aa034a"
   }
  }
 },
 "nbformat": 4,
 "nbformat_minor": 2
}
