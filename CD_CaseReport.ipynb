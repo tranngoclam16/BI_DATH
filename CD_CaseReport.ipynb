{
 "cells": [
  {
   "cell_type": "code",
   "execution_count": 254,
   "metadata": {},
   "outputs": [],
   "source": [
    "import pandas as pd\n",
    "from datetime import datetime"
   ]
  },
  {
   "cell_type": "code",
   "execution_count": 255,
   "metadata": {},
   "outputs": [
    {
     "data": {
      "text/html": [
       "<div>\n",
       "<style scoped>\n",
       "    .dataframe tbody tr th:only-of-type {\n",
       "        vertical-align: middle;\n",
       "    }\n",
       "\n",
       "    .dataframe tbody tr th {\n",
       "        vertical-align: top;\n",
       "    }\n",
       "\n",
       "    .dataframe thead th {\n",
       "        text-align: right;\n",
       "    }\n",
       "</style>\n",
       "<table border=\"1\" class=\"dataframe\">\n",
       "  <thead>\n",
       "    <tr style=\"text-align: right;\">\n",
       "      <th></th>\n",
       "      <th>Outcome</th>\n",
       "      <th>Age</th>\n",
       "      <th>Gender</th>\n",
       "      <th>Reporting PHU</th>\n",
       "      <th>SpecimenDate</th>\n",
       "      <th>CaseReported Date</th>\n",
       "      <th>PHUCity</th>\n",
       "      <th>TestReported Date</th>\n",
       "      <th>CaseAcquisition info</th>\n",
       "      <th>AccurateEpisode Dt</th>\n",
       "      <th>PHU Address</th>\n",
       "      <th>PHU Website</th>\n",
       "      <th>OutbreakRelated</th>\n",
       "      <th>PHU Latitude</th>\n",
       "      <th>PHU Longitude</th>\n",
       "      <th>PHU Postal Code</th>\n",
       "    </tr>\n",
       "  </thead>\n",
       "  <tbody>\n",
       "    <tr>\n",
       "      <th>0</th>\n",
       "      <td>Resolved</td>\n",
       "      <td>80s</td>\n",
       "      <td>FEMALE</td>\n",
       "      <td>Toronto Public Health</td>\n",
       "      <td>9/24/2020</td>\n",
       "      <td>2/6/2021</td>\n",
       "      <td>Toronto</td>\n",
       "      <td>2/6/2021</td>\n",
       "      <td>OB</td>\n",
       "      <td>1/26/2021</td>\n",
       "      <td>277 Victoria Street, 5th Floor</td>\n",
       "      <td>www.toronto.ca/community-people/health-wellnes...</td>\n",
       "      <td>Yes</td>\n",
       "      <td>43.656591</td>\n",
       "      <td>-79.379358</td>\n",
       "      <td>M5B 1W2</td>\n",
       "    </tr>\n",
       "    <tr>\n",
       "      <th>1</th>\n",
       "      <td>Resolved</td>\n",
       "      <td>&lt;20</td>\n",
       "      <td>MALE</td>\n",
       "      <td>Peel Public Health</td>\n",
       "      <td>12/24/2020</td>\n",
       "      <td>2/1/2021</td>\n",
       "      <td>Mississauga</td>\n",
       "      <td>2/1/2021</td>\n",
       "      <td>CC</td>\n",
       "      <td>1/29/2021</td>\n",
       "      <td>7120 Hurontario Street</td>\n",
       "      <td>www.peelregion.ca/health/</td>\n",
       "      <td>NaN</td>\n",
       "      <td>43.647471</td>\n",
       "      <td>-79.708893</td>\n",
       "      <td>L5W 1N4</td>\n",
       "    </tr>\n",
       "    <tr>\n",
       "      <th>2</th>\n",
       "      <td>Resolved</td>\n",
       "      <td>20s</td>\n",
       "      <td>MALE</td>\n",
       "      <td>Lambton Public Health</td>\n",
       "      <td>9/23/2020</td>\n",
       "      <td>1/15/2021</td>\n",
       "      <td>Point Edward</td>\n",
       "      <td>1/14/2021</td>\n",
       "      <td>CC</td>\n",
       "      <td>1/10/2021</td>\n",
       "      <td>160 Exmouth Street</td>\n",
       "      <td>www.lambtonhealth.on.ca</td>\n",
       "      <td>Yes</td>\n",
       "      <td>42.986416</td>\n",
       "      <td>-82.404808</td>\n",
       "      <td>N7T 7Z6</td>\n",
       "    </tr>\n",
       "    <tr>\n",
       "      <th>3</th>\n",
       "      <td>Resolved</td>\n",
       "      <td>20s</td>\n",
       "      <td>MALE</td>\n",
       "      <td>Region of Waterloo, Public Health</td>\n",
       "      <td>9/20/2020</td>\n",
       "      <td>12/29/2020</td>\n",
       "      <td>Waterloo</td>\n",
       "      <td>9/23/2020</td>\n",
       "      <td>NO KNOWN EPI LINK</td>\n",
       "      <td>9/20/2020</td>\n",
       "      <td>99 Regina Street South</td>\n",
       "      <td>www.regionofwaterloo.ca</td>\n",
       "      <td>NaN</td>\n",
       "      <td>43.462876</td>\n",
       "      <td>-80.520913</td>\n",
       "      <td>N2J 4V3</td>\n",
       "    </tr>\n",
       "    <tr>\n",
       "      <th>4</th>\n",
       "      <td>Resolved</td>\n",
       "      <td>20s</td>\n",
       "      <td>FEMALE</td>\n",
       "      <td>Ottawa Public Health</td>\n",
       "      <td>9/21/2020</td>\n",
       "      <td>12/24/2020</td>\n",
       "      <td>Ottawa</td>\n",
       "      <td>9/22/2020</td>\n",
       "      <td>CC</td>\n",
       "      <td>9/21/2020</td>\n",
       "      <td>100 Constellation Drive</td>\n",
       "      <td>www.ottawapublichealth.ca</td>\n",
       "      <td>NaN</td>\n",
       "      <td>45.345665</td>\n",
       "      <td>-75.763912</td>\n",
       "      <td>K2G 6J8</td>\n",
       "    </tr>\n",
       "  </tbody>\n",
       "</table>\n",
       "</div>"
      ],
      "text/plain": [
       "    Outcome  Age  Gender                      Reporting PHU SpecimenDate  \\\n",
       "0  Resolved  80s  FEMALE              Toronto Public Health    9/24/2020   \n",
       "1  Resolved  <20    MALE                 Peel Public Health   12/24/2020   \n",
       "2  Resolved  20s    MALE              Lambton Public Health    9/23/2020   \n",
       "3  Resolved  20s    MALE  Region of Waterloo, Public Health    9/20/2020   \n",
       "4  Resolved  20s  FEMALE               Ottawa Public Health    9/21/2020   \n",
       "\n",
       "  CaseReported Date       PHUCity TestReported Date CaseAcquisition info  \\\n",
       "0          2/6/2021       Toronto          2/6/2021                   OB   \n",
       "1          2/1/2021   Mississauga          2/1/2021                   CC   \n",
       "2         1/15/2021  Point Edward         1/14/2021                   CC   \n",
       "3        12/29/2020      Waterloo         9/23/2020    NO KNOWN EPI LINK   \n",
       "4        12/24/2020        Ottawa         9/22/2020                   CC   \n",
       "\n",
       "  AccurateEpisode Dt                     PHU Address  \\\n",
       "0          1/26/2021  277 Victoria Street, 5th Floor   \n",
       "1          1/29/2021          7120 Hurontario Street   \n",
       "2          1/10/2021              160 Exmouth Street   \n",
       "3          9/20/2020          99 Regina Street South   \n",
       "4          9/21/2020         100 Constellation Drive   \n",
       "\n",
       "                                         PHU Website OutbreakRelated  \\\n",
       "0  www.toronto.ca/community-people/health-wellnes...             Yes   \n",
       "1                          www.peelregion.ca/health/             NaN   \n",
       "2                            www.lambtonhealth.on.ca             Yes   \n",
       "3                            www.regionofwaterloo.ca             NaN   \n",
       "4                          www.ottawapublichealth.ca             NaN   \n",
       "\n",
       "   PHU Latitude  PHU Longitude PHU Postal Code  \n",
       "0     43.656591     -79.379358         M5B 1W2  \n",
       "1     43.647471     -79.708893         L5W 1N4  \n",
       "2     42.986416     -82.404808         N7T 7Z6  \n",
       "3     43.462876     -80.520913         N2J 4V3  \n",
       "4     45.345665     -75.763912         K2G 6J8  "
      ]
     },
     "execution_count": 255,
     "metadata": {},
     "output_type": "execute_result"
    }
   ],
   "source": [
    "df=pd.read_csv('Datasource/Cases Report.csv')\n",
    "df.head()"
   ]
  },
  {
   "cell_type": "code",
   "execution_count": 256,
   "metadata": {},
   "outputs": [
    {
     "name": "stdout",
     "output_type": "stream",
     "text": [
      "<class 'pandas.core.frame.DataFrame'>\n",
      "RangeIndex: 28500 entries, 0 to 28499\n",
      "Data columns (total 16 columns):\n",
      " #   Column                Non-Null Count  Dtype  \n",
      "---  ------                --------------  -----  \n",
      " 0   Outcome               28500 non-null  object \n",
      " 1   Age                   28500 non-null  object \n",
      " 2   Gender                28500 non-null  object \n",
      " 3   Reporting PHU         28500 non-null  object \n",
      " 4   SpecimenDate          28292 non-null  object \n",
      " 5   CaseReported Date     28500 non-null  object \n",
      " 6   PHUCity               28500 non-null  object \n",
      " 7   TestReported Date     28082 non-null  object \n",
      " 8   CaseAcquisition info  28500 non-null  object \n",
      " 9   AccurateEpisode Dt    28500 non-null  object \n",
      " 10  PHU Address           28500 non-null  object \n",
      " 11  PHU Website           28500 non-null  object \n",
      " 12  OutbreakRelated       8710 non-null   object \n",
      " 13  PHU Latitude          28500 non-null  float64\n",
      " 14  PHU Longitude         28500 non-null  float64\n",
      " 15  PHU Postal Code       28500 non-null  object \n",
      "dtypes: float64(2), object(14)\n",
      "memory usage: 3.5+ MB\n"
     ]
    }
   ],
   "source": [
    "df.info()"
   ]
  },
  {
   "cell_type": "code",
   "execution_count": 257,
   "metadata": {},
   "outputs": [
    {
     "data": {
      "text/plain": [
       "Outcome                     0\n",
       "Age                         0\n",
       "Gender                      0\n",
       "Reporting PHU               0\n",
       "SpecimenDate              208\n",
       "CaseReported Date           0\n",
       "PHUCity                     0\n",
       "TestReported Date         418\n",
       "CaseAcquisition info        0\n",
       "AccurateEpisode Dt          0\n",
       "PHU Address                 0\n",
       "PHU Website                 0\n",
       "OutbreakRelated         19790\n",
       "PHU Latitude                0\n",
       "PHU Longitude               0\n",
       "PHU Postal Code             0\n",
       "dtype: int64"
      ]
     },
     "execution_count": 257,
     "metadata": {},
     "output_type": "execute_result"
    }
   ],
   "source": [
    "df.isnull().sum()"
   ]
  },
  {
   "cell_type": "code",
   "execution_count": 258,
   "metadata": {},
   "outputs": [
    {
     "data": {
      "text/plain": [
       "array(['OB', 'CC', 'NO KNOWN EPI LINK', 'TRAVEL', 'MISSING INFORMATION',\n",
       "       'UNSPECIFIED EPI LINK'], dtype=object)"
      ]
     },
     "execution_count": 258,
     "metadata": {},
     "output_type": "execute_result"
    }
   ],
   "source": [
    "df['CaseAcquisition info'].unique()"
   ]
  },
  {
   "cell_type": "code",
   "execution_count": 259,
   "metadata": {},
   "outputs": [],
   "source": [
    "df.loc[df['CaseAcquisition info']=='UNSPECIFIED EPI LINK','CaseAcquisition info'] = 'NO KNOWN EPI LINK'\n",
    "df.loc[df['CaseAcquisition info']=='MISSING INFORMATION','CaseAcquisition info'] = 'NOT REPORTED'"
   ]
  },
  {
   "cell_type": "markdown",
   "metadata": {},
   "source": [
    "# Outcome, Age, Gender"
   ]
  },
  {
   "cell_type": "code",
   "execution_count": 260,
   "metadata": {},
   "outputs": [
    {
     "data": {
      "text/plain": [
       "Resolved        27192\n",
       "Fatal            1307\n",
       "Not Resolved        1\n",
       "Name: Outcome, dtype: int64"
      ]
     },
     "execution_count": 260,
     "metadata": {},
     "output_type": "execute_result"
    }
   ],
   "source": [
    "df['Outcome'].value_counts()"
   ]
  },
  {
   "cell_type": "code",
   "execution_count": 261,
   "metadata": {},
   "outputs": [],
   "source": [
    "df.loc[df['Outcome']=='Resolved','Outcome'] = 'Recovered'\n",
    "df.loc[df['Outcome']=='Fatal','Outcome'] = 'Deceased'\n",
    "df.loc[df['Outcome']=='Not Resolved','Outcome'] = 'Active'"
   ]
  },
  {
   "cell_type": "code",
   "execution_count": 262,
   "metadata": {},
   "outputs": [
    {
     "data": {
      "text/plain": [
       "20s    5899\n",
       "30s    4363\n",
       "50s    4280\n",
       "40s    3952\n",
       "60s    2879\n",
       "<20    2556\n",
       "80s    1737\n",
       "70s    1699\n",
       "90+    1135\n",
       "Name: Age, dtype: int64"
      ]
     },
     "execution_count": 262,
     "metadata": {},
     "output_type": "execute_result"
    }
   ],
   "source": [
    "df['Age'].value_counts()"
   ]
  },
  {
   "cell_type": "code",
   "execution_count": 263,
   "metadata": {},
   "outputs": [],
   "source": [
    "df.loc[df['Age']=='20s','Age'] = '20-29'\n",
    "df.loc[df['Age']=='30s','Age'] = '30-39'\n",
    "df.loc[df['Age']=='40s','Age'] = '40-49'\n",
    "df.loc[df['Age']=='50s','Age'] = '50-59'\n",
    "df.loc[df['Age']=='60s','Age'] = '60-69'\n",
    "df.loc[df['Age']=='70s','Age'] = '70-79'\n",
    "df.loc[df['Age']=='80s','Age'] = '80+'\n",
    "df.loc[df['Age']=='90+','Age'] = '80+'"
   ]
  },
  {
   "cell_type": "code",
   "execution_count": 264,
   "metadata": {},
   "outputs": [
    {
     "data": {
      "text/plain": [
       "Index(['Outcome', 'Age', 'Gender', 'Reporting PHU', 'SpecimenDate',\n",
       "       'CaseReported Date', 'PHUCity', 'TestReported Date',\n",
       "       'CaseAcquisition info', 'AccurateEpisode Dt', 'PHU Address',\n",
       "       'PHU Website', 'OutbreakRelated', 'PHU Latitude', 'PHU Longitude',\n",
       "       'PHU Postal Code'],\n",
       "      dtype='object')"
      ]
     },
     "execution_count": 264,
     "metadata": {},
     "output_type": "execute_result"
    }
   ],
   "source": [
    "df.columns"
   ]
  },
  {
   "cell_type": "code",
   "execution_count": 265,
   "metadata": {},
   "outputs": [
    {
     "data": {
      "text/plain": [
       "FEMALE            14470\n",
       "MALE              14006\n",
       "UNSPECIFIED          21\n",
       "GENDER DIVERSE        3\n",
       "Name: Gender, dtype: int64"
      ]
     },
     "execution_count": 265,
     "metadata": {},
     "output_type": "execute_result"
    }
   ],
   "source": [
    "df['Gender'].value_counts()"
   ]
  },
  {
   "cell_type": "code",
   "execution_count": 266,
   "metadata": {},
   "outputs": [],
   "source": [
    "df['Gender']=df['Gender'].str.lower()"
   ]
  },
  {
   "cell_type": "code",
   "execution_count": 267,
   "metadata": {},
   "outputs": [
    {
     "data": {
      "text/html": [
       "<div>\n",
       "<style scoped>\n",
       "    .dataframe tbody tr th:only-of-type {\n",
       "        vertical-align: middle;\n",
       "    }\n",
       "\n",
       "    .dataframe tbody tr th {\n",
       "        vertical-align: top;\n",
       "    }\n",
       "\n",
       "    .dataframe thead th {\n",
       "        text-align: right;\n",
       "    }\n",
       "</style>\n",
       "<table border=\"1\" class=\"dataframe\">\n",
       "  <thead>\n",
       "    <tr style=\"text-align: right;\">\n",
       "      <th></th>\n",
       "      <th>Outcome</th>\n",
       "      <th>Age</th>\n",
       "      <th>Gender</th>\n",
       "      <th>Reporting PHU</th>\n",
       "      <th>SpecimenDate</th>\n",
       "      <th>CaseReported Date</th>\n",
       "      <th>PHUCity</th>\n",
       "      <th>TestReported Date</th>\n",
       "      <th>CaseAcquisition info</th>\n",
       "      <th>AccurateEpisode Dt</th>\n",
       "      <th>PHU Address</th>\n",
       "      <th>PHU Website</th>\n",
       "      <th>OutbreakRelated</th>\n",
       "      <th>PHU Latitude</th>\n",
       "      <th>PHU Longitude</th>\n",
       "      <th>PHU Postal Code</th>\n",
       "    </tr>\n",
       "  </thead>\n",
       "  <tbody>\n",
       "    <tr>\n",
       "      <th>105</th>\n",
       "      <td>Recovered</td>\n",
       "      <td>&lt;20</td>\n",
       "      <td>female</td>\n",
       "      <td>Hamilton Public Health Services</td>\n",
       "      <td>10/6/2020</td>\n",
       "      <td>10/9/2020</td>\n",
       "      <td>Hamilton</td>\n",
       "      <td>10/9/2020</td>\n",
       "      <td>CC</td>\n",
       "      <td>10/6/2020</td>\n",
       "      <td>110 King St. West, 2nd Floor</td>\n",
       "      <td>www.hamilton.ca/publichealth</td>\n",
       "      <td>NaN</td>\n",
       "      <td>43.257631</td>\n",
       "      <td>-79.871341</td>\n",
       "      <td>L8P 4S6</td>\n",
       "    </tr>\n",
       "    <tr>\n",
       "      <th>115</th>\n",
       "      <td>Recovered</td>\n",
       "      <td>20-29</td>\n",
       "      <td>female</td>\n",
       "      <td>Peel Public Health</td>\n",
       "      <td>10/3/2020</td>\n",
       "      <td>10/9/2020</td>\n",
       "      <td>Mississauga</td>\n",
       "      <td>10/9/2020</td>\n",
       "      <td>CC</td>\n",
       "      <td>10/3/2020</td>\n",
       "      <td>7120 Hurontario Street</td>\n",
       "      <td>www.peelregion.ca/health/</td>\n",
       "      <td>NaN</td>\n",
       "      <td>43.647471</td>\n",
       "      <td>-79.708893</td>\n",
       "      <td>L5W 1N4</td>\n",
       "    </tr>\n",
       "    <tr>\n",
       "      <th>134</th>\n",
       "      <td>Recovered</td>\n",
       "      <td>20-29</td>\n",
       "      <td>male</td>\n",
       "      <td>Peel Public Health</td>\n",
       "      <td>10/3/2020</td>\n",
       "      <td>10/9/2020</td>\n",
       "      <td>Mississauga</td>\n",
       "      <td>10/9/2020</td>\n",
       "      <td>CC</td>\n",
       "      <td>10/3/2020</td>\n",
       "      <td>7120 Hurontario Street</td>\n",
       "      <td>www.peelregion.ca/health/</td>\n",
       "      <td>NaN</td>\n",
       "      <td>43.647471</td>\n",
       "      <td>-79.708893</td>\n",
       "      <td>L5W 1N4</td>\n",
       "    </tr>\n",
       "    <tr>\n",
       "      <th>162</th>\n",
       "      <td>Recovered</td>\n",
       "      <td>30-39</td>\n",
       "      <td>female</td>\n",
       "      <td>Peel Public Health</td>\n",
       "      <td>10/7/2020</td>\n",
       "      <td>10/9/2020</td>\n",
       "      <td>Mississauga</td>\n",
       "      <td>10/9/2020</td>\n",
       "      <td>CC</td>\n",
       "      <td>10/7/2020</td>\n",
       "      <td>7120 Hurontario Street</td>\n",
       "      <td>www.peelregion.ca/health/</td>\n",
       "      <td>NaN</td>\n",
       "      <td>43.647471</td>\n",
       "      <td>-79.708893</td>\n",
       "      <td>L5W 1N4</td>\n",
       "    </tr>\n",
       "    <tr>\n",
       "      <th>197</th>\n",
       "      <td>Recovered</td>\n",
       "      <td>&lt;20</td>\n",
       "      <td>female</td>\n",
       "      <td>Hamilton Public Health Services</td>\n",
       "      <td>10/6/2020</td>\n",
       "      <td>10/8/2020</td>\n",
       "      <td>Hamilton</td>\n",
       "      <td>10/8/2020</td>\n",
       "      <td>OB</td>\n",
       "      <td>10/4/2020</td>\n",
       "      <td>110 King St. West, 2nd Floor</td>\n",
       "      <td>www.hamilton.ca/publichealth</td>\n",
       "      <td>Yes</td>\n",
       "      <td>43.257631</td>\n",
       "      <td>-79.871341</td>\n",
       "      <td>L8P 4S6</td>\n",
       "    </tr>\n",
       "    <tr>\n",
       "      <th>...</th>\n",
       "      <td>...</td>\n",
       "      <td>...</td>\n",
       "      <td>...</td>\n",
       "      <td>...</td>\n",
       "      <td>...</td>\n",
       "      <td>...</td>\n",
       "      <td>...</td>\n",
       "      <td>...</td>\n",
       "      <td>...</td>\n",
       "      <td>...</td>\n",
       "      <td>...</td>\n",
       "      <td>...</td>\n",
       "      <td>...</td>\n",
       "      <td>...</td>\n",
       "      <td>...</td>\n",
       "      <td>...</td>\n",
       "    </tr>\n",
       "    <tr>\n",
       "      <th>27070</th>\n",
       "      <td>Recovered</td>\n",
       "      <td>30-39</td>\n",
       "      <td>female</td>\n",
       "      <td>Peel Public Health</td>\n",
       "      <td>3/28/2020</td>\n",
       "      <td>3/30/2020</td>\n",
       "      <td>Mississauga</td>\n",
       "      <td>3/30/2020</td>\n",
       "      <td>CC</td>\n",
       "      <td>3/23/2020</td>\n",
       "      <td>7120 Hurontario Street</td>\n",
       "      <td>www.peelregion.ca/health/</td>\n",
       "      <td>NaN</td>\n",
       "      <td>43.647471</td>\n",
       "      <td>-79.708893</td>\n",
       "      <td>L5W 1N4</td>\n",
       "    </tr>\n",
       "    <tr>\n",
       "      <th>27102</th>\n",
       "      <td>Recovered</td>\n",
       "      <td>40-49</td>\n",
       "      <td>male</td>\n",
       "      <td>York Region Public Health Services</td>\n",
       "      <td>3/26/2020</td>\n",
       "      <td>3/30/2020</td>\n",
       "      <td>Newmarket</td>\n",
       "      <td>3/30/2020</td>\n",
       "      <td>NO KNOWN EPI LINK</td>\n",
       "      <td>3/19/2020</td>\n",
       "      <td>17250 Yonge Street</td>\n",
       "      <td>www.york.ca/wps/portal/yorkhome/health/</td>\n",
       "      <td>NaN</td>\n",
       "      <td>44.048023</td>\n",
       "      <td>-79.480239</td>\n",
       "      <td>L3Y 6Z1</td>\n",
       "    </tr>\n",
       "    <tr>\n",
       "      <th>27509</th>\n",
       "      <td>Recovered</td>\n",
       "      <td>20-29</td>\n",
       "      <td>female</td>\n",
       "      <td>Peel Public Health</td>\n",
       "      <td>3/25/2020</td>\n",
       "      <td>3/28/2020</td>\n",
       "      <td>Mississauga</td>\n",
       "      <td>3/28/2020</td>\n",
       "      <td>CC</td>\n",
       "      <td>3/24/2020</td>\n",
       "      <td>7120 Hurontario Street</td>\n",
       "      <td>www.peelregion.ca/health/</td>\n",
       "      <td>NaN</td>\n",
       "      <td>43.647471</td>\n",
       "      <td>-79.708893</td>\n",
       "      <td>L5W 1N4</td>\n",
       "    </tr>\n",
       "    <tr>\n",
       "      <th>27720</th>\n",
       "      <td>Recovered</td>\n",
       "      <td>60-69</td>\n",
       "      <td>female</td>\n",
       "      <td>Peel Public Health</td>\n",
       "      <td>3/21/2020</td>\n",
       "      <td>3/27/2020</td>\n",
       "      <td>Mississauga</td>\n",
       "      <td>3/27/2020</td>\n",
       "      <td>CC</td>\n",
       "      <td>3/14/2020</td>\n",
       "      <td>7120 Hurontario Street</td>\n",
       "      <td>www.peelregion.ca/health/</td>\n",
       "      <td>NaN</td>\n",
       "      <td>43.647471</td>\n",
       "      <td>-79.708893</td>\n",
       "      <td>L5W 1N4</td>\n",
       "    </tr>\n",
       "    <tr>\n",
       "      <th>27786</th>\n",
       "      <td>Recovered</td>\n",
       "      <td>30-39</td>\n",
       "      <td>male</td>\n",
       "      <td>Peel Public Health</td>\n",
       "      <td>3/20/2020</td>\n",
       "      <td>3/26/2020</td>\n",
       "      <td>Mississauga</td>\n",
       "      <td>3/26/2020</td>\n",
       "      <td>NO KNOWN EPI LINK</td>\n",
       "      <td>3/17/2020</td>\n",
       "      <td>7120 Hurontario Street</td>\n",
       "      <td>www.peelregion.ca/health/</td>\n",
       "      <td>NaN</td>\n",
       "      <td>43.647471</td>\n",
       "      <td>-79.708893</td>\n",
       "      <td>L5W 1N4</td>\n",
       "    </tr>\n",
       "  </tbody>\n",
       "</table>\n",
       "<p>1667 rows × 16 columns</p>\n",
       "</div>"
      ],
      "text/plain": [
       "         Outcome    Age  Gender                       Reporting PHU  \\\n",
       "105    Recovered    <20  female     Hamilton Public Health Services   \n",
       "115    Recovered  20-29  female                  Peel Public Health   \n",
       "134    Recovered  20-29    male                  Peel Public Health   \n",
       "162    Recovered  30-39  female                  Peel Public Health   \n",
       "197    Recovered    <20  female     Hamilton Public Health Services   \n",
       "...          ...    ...     ...                                 ...   \n",
       "27070  Recovered  30-39  female                  Peel Public Health   \n",
       "27102  Recovered  40-49    male  York Region Public Health Services   \n",
       "27509  Recovered  20-29  female                  Peel Public Health   \n",
       "27720  Recovered  60-69  female                  Peel Public Health   \n",
       "27786  Recovered  30-39    male                  Peel Public Health   \n",
       "\n",
       "      SpecimenDate CaseReported Date      PHUCity TestReported Date  \\\n",
       "105      10/6/2020         10/9/2020     Hamilton         10/9/2020   \n",
       "115      10/3/2020         10/9/2020  Mississauga         10/9/2020   \n",
       "134      10/3/2020         10/9/2020  Mississauga         10/9/2020   \n",
       "162      10/7/2020         10/9/2020  Mississauga         10/9/2020   \n",
       "197      10/6/2020         10/8/2020     Hamilton         10/8/2020   \n",
       "...            ...               ...          ...               ...   \n",
       "27070    3/28/2020         3/30/2020  Mississauga         3/30/2020   \n",
       "27102    3/26/2020         3/30/2020    Newmarket         3/30/2020   \n",
       "27509    3/25/2020         3/28/2020  Mississauga         3/28/2020   \n",
       "27720    3/21/2020         3/27/2020  Mississauga         3/27/2020   \n",
       "27786    3/20/2020         3/26/2020  Mississauga         3/26/2020   \n",
       "\n",
       "      CaseAcquisition info AccurateEpisode Dt                   PHU Address  \\\n",
       "105                     CC          10/6/2020  110 King St. West, 2nd Floor   \n",
       "115                     CC          10/3/2020        7120 Hurontario Street   \n",
       "134                     CC          10/3/2020        7120 Hurontario Street   \n",
       "162                     CC          10/7/2020        7120 Hurontario Street   \n",
       "197                     OB          10/4/2020  110 King St. West, 2nd Floor   \n",
       "...                    ...                ...                           ...   \n",
       "27070                   CC          3/23/2020        7120 Hurontario Street   \n",
       "27102    NO KNOWN EPI LINK          3/19/2020            17250 Yonge Street   \n",
       "27509                   CC          3/24/2020        7120 Hurontario Street   \n",
       "27720                   CC          3/14/2020        7120 Hurontario Street   \n",
       "27786    NO KNOWN EPI LINK          3/17/2020        7120 Hurontario Street   \n",
       "\n",
       "                                    PHU Website OutbreakRelated  PHU Latitude  \\\n",
       "105                www.hamilton.ca/publichealth             NaN     43.257631   \n",
       "115                   www.peelregion.ca/health/             NaN     43.647471   \n",
       "134                   www.peelregion.ca/health/             NaN     43.647471   \n",
       "162                   www.peelregion.ca/health/             NaN     43.647471   \n",
       "197                www.hamilton.ca/publichealth             Yes     43.257631   \n",
       "...                                         ...             ...           ...   \n",
       "27070                 www.peelregion.ca/health/             NaN     43.647471   \n",
       "27102  www.york.ca/wps/portal/yorkhome/health/              NaN     44.048023   \n",
       "27509                 www.peelregion.ca/health/             NaN     43.647471   \n",
       "27720                 www.peelregion.ca/health/             NaN     43.647471   \n",
       "27786                 www.peelregion.ca/health/             NaN     43.647471   \n",
       "\n",
       "       PHU Longitude PHU Postal Code  \n",
       "105       -79.871341         L8P 4S6  \n",
       "115       -79.708893         L5W 1N4  \n",
       "134       -79.708893         L5W 1N4  \n",
       "162       -79.708893         L5W 1N4  \n",
       "197       -79.871341         L8P 4S6  \n",
       "...              ...             ...  \n",
       "27070     -79.708893         L5W 1N4  \n",
       "27102     -79.480239         L3Y 6Z1  \n",
       "27509     -79.708893         L5W 1N4  \n",
       "27720     -79.708893         L5W 1N4  \n",
       "27786     -79.708893         L5W 1N4  \n",
       "\n",
       "[1667 rows x 16 columns]"
      ]
     },
     "execution_count": 267,
     "metadata": {},
     "output_type": "execute_result"
    }
   ],
   "source": [
    "df[df.duplicated(keep='first')]"
   ]
  },
  {
   "cell_type": "markdown",
   "metadata": {},
   "source": [
    "# SpecimenDate, TestReported Date"
   ]
  },
  {
   "cell_type": "code",
   "execution_count": 268,
   "metadata": {},
   "outputs": [
    {
     "data": {
      "text/plain": [
       "4/15/2020     404\n",
       "4/16/2020     389\n",
       "4/13/2020     383\n",
       "4/11/2020     356\n",
       "4/17/2020     336\n",
       "             ... \n",
       "2/9/2021        1\n",
       "10/16/2020      1\n",
       "10/15/2020      1\n",
       "3/3/2020        1\n",
       "12/15/2020      1\n",
       "Name: SpecimenDate, Length: 242, dtype: int64"
      ]
     },
     "execution_count": 268,
     "metadata": {},
     "output_type": "execute_result"
    }
   ],
   "source": [
    "df['SpecimenDate'].value_counts()"
   ]
  },
  {
   "cell_type": "code",
   "execution_count": 269,
   "metadata": {},
   "outputs": [
    {
     "data": {
      "text/plain": [
       "0       2020-09-24\n",
       "1       2020-12-24\n",
       "2       2020-09-23\n",
       "3       2020-09-20\n",
       "4       2020-09-21\n",
       "           ...    \n",
       "28495   2020-02-29\n",
       "28496   2020-02-28\n",
       "28497   2020-02-28\n",
       "28498   2020-02-28\n",
       "28499   2020-02-29\n",
       "Name: SpecimenDate, Length: 28500, dtype: datetime64[ns]"
      ]
     },
     "execution_count": 269,
     "metadata": {},
     "output_type": "execute_result"
    }
   ],
   "source": [
    "df['SpecimenDate'] =  pd.to_datetime(df['SpecimenDate'], format='%m/%d/%Y')\n",
    "df['SpecimenDate']"
   ]
  },
  {
   "cell_type": "code",
   "execution_count": 270,
   "metadata": {},
   "outputs": [
    {
     "data": {
      "text/plain": [
       "0       2020-09-24\n",
       "1       2020-12-24\n",
       "2       2020-09-23\n",
       "3       2020-09-20\n",
       "4       2020-09-21\n",
       "           ...    \n",
       "28495   2020-02-29\n",
       "28496   2020-02-28\n",
       "28497   2020-02-28\n",
       "28498   2020-02-28\n",
       "28499   2020-02-29\n",
       "Name: SpecimenDate, Length: 28500, dtype: datetime64[ns]"
      ]
     },
     "execution_count": 270,
     "metadata": {},
     "output_type": "execute_result"
    }
   ],
   "source": [
    "df['SpecimenDate'] = df['SpecimenDate'].fillna(df.groupby('Reporting PHU')['SpecimenDate'].transform('median'))\n",
    "df['SpecimenDate']"
   ]
  },
  {
   "cell_type": "code",
   "execution_count": 271,
   "metadata": {},
   "outputs": [
    {
     "data": {
      "text/plain": [
       "0        2020-09-24\n",
       "1        2020-12-24\n",
       "2        2020-09-23\n",
       "3        2020-09-20\n",
       "4        2020-09-21\n",
       "            ...    \n",
       "28495    2020-02-29\n",
       "28496    2020-02-28\n",
       "28497    2020-02-28\n",
       "28498    2020-02-28\n",
       "28499    2020-02-29\n",
       "Name: SpecimenDate, Length: 28500, dtype: object"
      ]
     },
     "execution_count": 271,
     "metadata": {},
     "output_type": "execute_result"
    }
   ],
   "source": [
    "df['SpecimenDate'] = pd.to_datetime(df['SpecimenDate']).dt.date\n",
    "df['SpecimenDate']"
   ]
  },
  {
   "cell_type": "code",
   "execution_count": 272,
   "metadata": {},
   "outputs": [
    {
     "name": "stdout",
     "output_type": "stream",
     "text": [
      "<class 'pandas.core.frame.DataFrame'>\n",
      "RangeIndex: 28500 entries, 0 to 28499\n",
      "Data columns (total 16 columns):\n",
      " #   Column                Non-Null Count  Dtype  \n",
      "---  ------                --------------  -----  \n",
      " 0   Outcome               28500 non-null  object \n",
      " 1   Age                   28500 non-null  object \n",
      " 2   Gender                28500 non-null  object \n",
      " 3   Reporting PHU         28500 non-null  object \n",
      " 4   SpecimenDate          28500 non-null  object \n",
      " 5   CaseReported Date     28500 non-null  object \n",
      " 6   PHUCity               28500 non-null  object \n",
      " 7   TestReported Date     28082 non-null  object \n",
      " 8   CaseAcquisition info  28500 non-null  object \n",
      " 9   AccurateEpisode Dt    28500 non-null  object \n",
      " 10  PHU Address           28500 non-null  object \n",
      " 11  PHU Website           28500 non-null  object \n",
      " 12  OutbreakRelated       8710 non-null   object \n",
      " 13  PHU Latitude          28500 non-null  float64\n",
      " 14  PHU Longitude         28500 non-null  float64\n",
      " 15  PHU Postal Code       28500 non-null  object \n",
      "dtypes: float64(2), object(14)\n",
      "memory usage: 3.5+ MB\n"
     ]
    }
   ],
   "source": [
    "df.info()"
   ]
  },
  {
   "cell_type": "code",
   "execution_count": 273,
   "metadata": {},
   "outputs": [],
   "source": [
    "df['TestReported Date'] =  pd.to_datetime(df['TestReported Date'], format='%m/%d/%Y')\n",
    "df['TestReported Date'] = df['TestReported Date'].fillna(df.groupby('Reporting PHU')['TestReported Date'].transform('median'))\n",
    "df['TestReported Date'] = pd.to_datetime(df['TestReported Date']).dt.date"
   ]
  },
  {
   "cell_type": "code",
   "execution_count": 274,
   "metadata": {},
   "outputs": [
    {
     "data": {
      "text/plain": [
       "Outcome                     0\n",
       "Age                         0\n",
       "Gender                      0\n",
       "Reporting PHU               0\n",
       "SpecimenDate                0\n",
       "CaseReported Date           0\n",
       "PHUCity                     0\n",
       "TestReported Date           0\n",
       "CaseAcquisition info        0\n",
       "AccurateEpisode Dt          0\n",
       "PHU Address                 0\n",
       "PHU Website                 0\n",
       "OutbreakRelated         19790\n",
       "PHU Latitude                0\n",
       "PHU Longitude               0\n",
       "PHU Postal Code             0\n",
       "dtype: int64"
      ]
     },
     "execution_count": 274,
     "metadata": {},
     "output_type": "execute_result"
    }
   ],
   "source": [
    "df.isnull().sum()"
   ]
  },
  {
   "cell_type": "code",
   "execution_count": 275,
   "metadata": {},
   "outputs": [],
   "source": [
    "df['CaseReported Date'] =  pd.to_datetime(df['CaseReported Date'], format='%m/%d/%Y').dt.date\n",
    "df['AccurateEpisode Dt'] =  pd.to_datetime(df['AccurateEpisode Dt'], format='%m/%d/%Y').dt.date"
   ]
  },
  {
   "cell_type": "markdown",
   "metadata": {},
   "source": [
    "# OutbreakRelated"
   ]
  },
  {
   "cell_type": "code",
   "execution_count": 276,
   "metadata": {},
   "outputs": [
    {
     "data": {
      "text/plain": [
       "array(['Yes', nan], dtype=object)"
      ]
     },
     "execution_count": 276,
     "metadata": {},
     "output_type": "execute_result"
    }
   ],
   "source": [
    "df['OutbreakRelated'].unique()"
   ]
  },
  {
   "cell_type": "code",
   "execution_count": 277,
   "metadata": {},
   "outputs": [
    {
     "data": {
      "text/html": [
       "<div>\n",
       "<style scoped>\n",
       "    .dataframe tbody tr th:only-of-type {\n",
       "        vertical-align: middle;\n",
       "    }\n",
       "\n",
       "    .dataframe tbody tr th {\n",
       "        vertical-align: top;\n",
       "    }\n",
       "\n",
       "    .dataframe thead th {\n",
       "        text-align: right;\n",
       "    }\n",
       "</style>\n",
       "<table border=\"1\" class=\"dataframe\">\n",
       "  <thead>\n",
       "    <tr style=\"text-align: right;\">\n",
       "      <th></th>\n",
       "      <th>CaseAcquisition info</th>\n",
       "      <th>Count</th>\n",
       "    </tr>\n",
       "  </thead>\n",
       "  <tbody>\n",
       "    <tr>\n",
       "      <th>0</th>\n",
       "      <td>OB</td>\n",
       "      <td>246</td>\n",
       "    </tr>\n",
       "    <tr>\n",
       "      <th>1</th>\n",
       "      <td>NOT REPORTED</td>\n",
       "      <td>250</td>\n",
       "    </tr>\n",
       "    <tr>\n",
       "      <th>2</th>\n",
       "      <td>TRAVEL</td>\n",
       "      <td>1721</td>\n",
       "    </tr>\n",
       "    <tr>\n",
       "      <th>3</th>\n",
       "      <td>NO KNOWN EPI LINK</td>\n",
       "      <td>6423</td>\n",
       "    </tr>\n",
       "    <tr>\n",
       "      <th>4</th>\n",
       "      <td>CC</td>\n",
       "      <td>11150</td>\n",
       "    </tr>\n",
       "  </tbody>\n",
       "</table>\n",
       "</div>"
      ],
      "text/plain": [
       "  CaseAcquisition info  Count\n",
       "0                   OB    246\n",
       "1         NOT REPORTED    250\n",
       "2               TRAVEL   1721\n",
       "3    NO KNOWN EPI LINK   6423\n",
       "4                   CC  11150"
      ]
     },
     "execution_count": 277,
     "metadata": {},
     "output_type": "execute_result"
    }
   ],
   "source": [
    "bool_series = pd.isnull(df['OutbreakRelated'])\n",
    "df[bool_series].groupby('CaseAcquisition info')['CaseAcquisition info'].count().sort_values(ascending=True).reset_index(name='Count')"
   ]
  },
  {
   "cell_type": "code",
   "execution_count": 278,
   "metadata": {},
   "outputs": [
    {
     "data": {
      "text/html": [
       "<div>\n",
       "<style scoped>\n",
       "    .dataframe tbody tr th:only-of-type {\n",
       "        vertical-align: middle;\n",
       "    }\n",
       "\n",
       "    .dataframe tbody tr th {\n",
       "        vertical-align: top;\n",
       "    }\n",
       "\n",
       "    .dataframe thead th {\n",
       "        text-align: right;\n",
       "    }\n",
       "</style>\n",
       "<table border=\"1\" class=\"dataframe\">\n",
       "  <thead>\n",
       "    <tr style=\"text-align: right;\">\n",
       "      <th></th>\n",
       "      <th>CaseAcquisition info</th>\n",
       "      <th>Count</th>\n",
       "    </tr>\n",
       "  </thead>\n",
       "  <tbody>\n",
       "    <tr>\n",
       "      <th>0</th>\n",
       "      <td>TRAVEL</td>\n",
       "      <td>2</td>\n",
       "    </tr>\n",
       "    <tr>\n",
       "      <th>1</th>\n",
       "      <td>NOT REPORTED</td>\n",
       "      <td>4</td>\n",
       "    </tr>\n",
       "    <tr>\n",
       "      <th>2</th>\n",
       "      <td>NO KNOWN EPI LINK</td>\n",
       "      <td>91</td>\n",
       "    </tr>\n",
       "    <tr>\n",
       "      <th>3</th>\n",
       "      <td>CC</td>\n",
       "      <td>393</td>\n",
       "    </tr>\n",
       "    <tr>\n",
       "      <th>4</th>\n",
       "      <td>OB</td>\n",
       "      <td>8220</td>\n",
       "    </tr>\n",
       "  </tbody>\n",
       "</table>\n",
       "</div>"
      ],
      "text/plain": [
       "  CaseAcquisition info  Count\n",
       "0               TRAVEL      2\n",
       "1         NOT REPORTED      4\n",
       "2    NO KNOWN EPI LINK     91\n",
       "3                   CC    393\n",
       "4                   OB   8220"
      ]
     },
     "execution_count": 278,
     "metadata": {},
     "output_type": "execute_result"
    }
   ],
   "source": [
    "bool_series = pd.notnull(df['OutbreakRelated'])\n",
    "df[bool_series].groupby('CaseAcquisition info')['CaseAcquisition info'].count().sort_values(ascending=True).reset_index(name='Count')"
   ]
  },
  {
   "cell_type": "code",
   "execution_count": 279,
   "metadata": {},
   "outputs": [],
   "source": [
    "pd.options.mode.chained_assignment = 'warn'\n",
    "df.loc[df['CaseAcquisition info']=='OB','OutbreakRelated'] = df.loc[df['CaseAcquisition info']=='OB','OutbreakRelated'].fillna('Yes')"
   ]
  },
  {
   "cell_type": "code",
   "execution_count": 280,
   "metadata": {},
   "outputs": [
    {
     "data": {
      "text/plain": [
       "array(['Yes'], dtype=object)"
      ]
     },
     "execution_count": 280,
     "metadata": {},
     "output_type": "execute_result"
    }
   ],
   "source": [
    "df[df['CaseAcquisition info']=='OB']['OutbreakRelated'].unique()"
   ]
  },
  {
   "cell_type": "code",
   "execution_count": 281,
   "metadata": {},
   "outputs": [],
   "source": [
    "df['OutbreakRelated'] = df['OutbreakRelated'].fillna('No')"
   ]
  },
  {
   "cell_type": "code",
   "execution_count": 282,
   "metadata": {},
   "outputs": [
    {
     "data": {
      "text/plain": [
       "Outcome                 0\n",
       "Age                     0\n",
       "Gender                  0\n",
       "Reporting PHU           0\n",
       "SpecimenDate            0\n",
       "CaseReported Date       0\n",
       "PHUCity                 0\n",
       "TestReported Date       0\n",
       "CaseAcquisition info    0\n",
       "AccurateEpisode Dt      0\n",
       "PHU Address             0\n",
       "PHU Website             0\n",
       "OutbreakRelated         0\n",
       "PHU Latitude            0\n",
       "PHU Longitude           0\n",
       "PHU Postal Code         0\n",
       "dtype: int64"
      ]
     },
     "execution_count": 282,
     "metadata": {},
     "output_type": "execute_result"
    }
   ],
   "source": [
    "df.isnull().sum()"
   ]
  },
  {
   "cell_type": "code",
   "execution_count": 283,
   "metadata": {},
   "outputs": [
    {
     "name": "stderr",
     "output_type": "stream",
     "text": [
      "C:\\Users\\ngphv\\AppData\\Local\\Temp\\ipykernel_22220\\943213306.py:1: FutureWarning: The pandas.datetime class is deprecated and will be removed from pandas in a future version. Import from datetime module instead.\n",
      "  df['CreatedDate']=pd.datetime.now()\n",
      "C:\\Users\\ngphv\\AppData\\Local\\Temp\\ipykernel_22220\\943213306.py:2: FutureWarning: The pandas.datetime class is deprecated and will be removed from pandas in a future version. Import from datetime module instead.\n",
      "  df['UpdatedDate']=pd.datetime.now()\n"
     ]
    }
   ],
   "source": [
    "df['CreatedDate']=pd.datetime.now()\n",
    "df['UpdatedDate']=pd.datetime.now()"
   ]
  },
  {
   "cell_type": "code",
   "execution_count": 284,
   "metadata": {},
   "outputs": [
    {
     "data": {
      "text/html": [
       "<div>\n",
       "<style scoped>\n",
       "    .dataframe tbody tr th:only-of-type {\n",
       "        vertical-align: middle;\n",
       "    }\n",
       "\n",
       "    .dataframe tbody tr th {\n",
       "        vertical-align: top;\n",
       "    }\n",
       "\n",
       "    .dataframe thead th {\n",
       "        text-align: right;\n",
       "    }\n",
       "</style>\n",
       "<table border=\"1\" class=\"dataframe\">\n",
       "  <thead>\n",
       "    <tr style=\"text-align: right;\">\n",
       "      <th></th>\n",
       "      <th>Outcome</th>\n",
       "      <th>Age</th>\n",
       "      <th>Gender</th>\n",
       "      <th>Reporting PHU</th>\n",
       "      <th>SpecimenDate</th>\n",
       "      <th>CaseReported Date</th>\n",
       "      <th>PHUCity</th>\n",
       "      <th>TestReported Date</th>\n",
       "      <th>CaseAcquisition info</th>\n",
       "      <th>AccurateEpisode Dt</th>\n",
       "      <th>PHU Address</th>\n",
       "      <th>PHU Website</th>\n",
       "      <th>OutbreakRelated</th>\n",
       "      <th>PHU Latitude</th>\n",
       "      <th>PHU Longitude</th>\n",
       "      <th>PHU Postal Code</th>\n",
       "      <th>CreatedDate</th>\n",
       "      <th>UpdatedDate</th>\n",
       "    </tr>\n",
       "  </thead>\n",
       "  <tbody>\n",
       "    <tr>\n",
       "      <th>0</th>\n",
       "      <td>Recovered</td>\n",
       "      <td>80+</td>\n",
       "      <td>female</td>\n",
       "      <td>Toronto Public Health</td>\n",
       "      <td>2020-09-24</td>\n",
       "      <td>2021-02-06</td>\n",
       "      <td>Toronto</td>\n",
       "      <td>2021-02-06</td>\n",
       "      <td>OB</td>\n",
       "      <td>2021-01-26</td>\n",
       "      <td>277 Victoria Street, 5th Floor</td>\n",
       "      <td>www.toronto.ca/community-people/health-wellnes...</td>\n",
       "      <td>Yes</td>\n",
       "      <td>43.656591</td>\n",
       "      <td>-79.379358</td>\n",
       "      <td>M5B 1W2</td>\n",
       "      <td>2022-11-23 12:23:21.086731</td>\n",
       "      <td>2022-11-23 12:23:21.088744</td>\n",
       "    </tr>\n",
       "    <tr>\n",
       "      <th>1</th>\n",
       "      <td>Recovered</td>\n",
       "      <td>&lt;20</td>\n",
       "      <td>male</td>\n",
       "      <td>Peel Public Health</td>\n",
       "      <td>2020-12-24</td>\n",
       "      <td>2021-02-01</td>\n",
       "      <td>Mississauga</td>\n",
       "      <td>2021-02-01</td>\n",
       "      <td>CC</td>\n",
       "      <td>2021-01-29</td>\n",
       "      <td>7120 Hurontario Street</td>\n",
       "      <td>www.peelregion.ca/health/</td>\n",
       "      <td>No</td>\n",
       "      <td>43.647471</td>\n",
       "      <td>-79.708893</td>\n",
       "      <td>L5W 1N4</td>\n",
       "      <td>2022-11-23 12:23:21.086731</td>\n",
       "      <td>2022-11-23 12:23:21.088744</td>\n",
       "    </tr>\n",
       "    <tr>\n",
       "      <th>2</th>\n",
       "      <td>Recovered</td>\n",
       "      <td>20-29</td>\n",
       "      <td>male</td>\n",
       "      <td>Lambton Public Health</td>\n",
       "      <td>2020-09-23</td>\n",
       "      <td>2021-01-15</td>\n",
       "      <td>Point Edward</td>\n",
       "      <td>2021-01-14</td>\n",
       "      <td>CC</td>\n",
       "      <td>2021-01-10</td>\n",
       "      <td>160 Exmouth Street</td>\n",
       "      <td>www.lambtonhealth.on.ca</td>\n",
       "      <td>Yes</td>\n",
       "      <td>42.986416</td>\n",
       "      <td>-82.404808</td>\n",
       "      <td>N7T 7Z6</td>\n",
       "      <td>2022-11-23 12:23:21.086731</td>\n",
       "      <td>2022-11-23 12:23:21.088744</td>\n",
       "    </tr>\n",
       "    <tr>\n",
       "      <th>3</th>\n",
       "      <td>Recovered</td>\n",
       "      <td>20-29</td>\n",
       "      <td>male</td>\n",
       "      <td>Region of Waterloo, Public Health</td>\n",
       "      <td>2020-09-20</td>\n",
       "      <td>2020-12-29</td>\n",
       "      <td>Waterloo</td>\n",
       "      <td>2020-09-23</td>\n",
       "      <td>NO KNOWN EPI LINK</td>\n",
       "      <td>2020-09-20</td>\n",
       "      <td>99 Regina Street South</td>\n",
       "      <td>www.regionofwaterloo.ca</td>\n",
       "      <td>No</td>\n",
       "      <td>43.462876</td>\n",
       "      <td>-80.520913</td>\n",
       "      <td>N2J 4V3</td>\n",
       "      <td>2022-11-23 12:23:21.086731</td>\n",
       "      <td>2022-11-23 12:23:21.088744</td>\n",
       "    </tr>\n",
       "    <tr>\n",
       "      <th>4</th>\n",
       "      <td>Recovered</td>\n",
       "      <td>20-29</td>\n",
       "      <td>female</td>\n",
       "      <td>Ottawa Public Health</td>\n",
       "      <td>2020-09-21</td>\n",
       "      <td>2020-12-24</td>\n",
       "      <td>Ottawa</td>\n",
       "      <td>2020-09-22</td>\n",
       "      <td>CC</td>\n",
       "      <td>2020-09-21</td>\n",
       "      <td>100 Constellation Drive</td>\n",
       "      <td>www.ottawapublichealth.ca</td>\n",
       "      <td>No</td>\n",
       "      <td>45.345665</td>\n",
       "      <td>-75.763912</td>\n",
       "      <td>K2G 6J8</td>\n",
       "      <td>2022-11-23 12:23:21.086731</td>\n",
       "      <td>2022-11-23 12:23:21.088744</td>\n",
       "    </tr>\n",
       "  </tbody>\n",
       "</table>\n",
       "</div>"
      ],
      "text/plain": [
       "     Outcome    Age  Gender                      Reporting PHU SpecimenDate  \\\n",
       "0  Recovered    80+  female              Toronto Public Health   2020-09-24   \n",
       "1  Recovered    <20    male                 Peel Public Health   2020-12-24   \n",
       "2  Recovered  20-29    male              Lambton Public Health   2020-09-23   \n",
       "3  Recovered  20-29    male  Region of Waterloo, Public Health   2020-09-20   \n",
       "4  Recovered  20-29  female               Ottawa Public Health   2020-09-21   \n",
       "\n",
       "  CaseReported Date       PHUCity TestReported Date CaseAcquisition info  \\\n",
       "0        2021-02-06       Toronto        2021-02-06                   OB   \n",
       "1        2021-02-01   Mississauga        2021-02-01                   CC   \n",
       "2        2021-01-15  Point Edward        2021-01-14                   CC   \n",
       "3        2020-12-29      Waterloo        2020-09-23    NO KNOWN EPI LINK   \n",
       "4        2020-12-24        Ottawa        2020-09-22                   CC   \n",
       "\n",
       "  AccurateEpisode Dt                     PHU Address  \\\n",
       "0         2021-01-26  277 Victoria Street, 5th Floor   \n",
       "1         2021-01-29          7120 Hurontario Street   \n",
       "2         2021-01-10              160 Exmouth Street   \n",
       "3         2020-09-20          99 Regina Street South   \n",
       "4         2020-09-21         100 Constellation Drive   \n",
       "\n",
       "                                         PHU Website OutbreakRelated  \\\n",
       "0  www.toronto.ca/community-people/health-wellnes...             Yes   \n",
       "1                          www.peelregion.ca/health/              No   \n",
       "2                            www.lambtonhealth.on.ca             Yes   \n",
       "3                            www.regionofwaterloo.ca              No   \n",
       "4                          www.ottawapublichealth.ca              No   \n",
       "\n",
       "   PHU Latitude  PHU Longitude PHU Postal Code                CreatedDate  \\\n",
       "0     43.656591     -79.379358         M5B 1W2 2022-11-23 12:23:21.086731   \n",
       "1     43.647471     -79.708893         L5W 1N4 2022-11-23 12:23:21.086731   \n",
       "2     42.986416     -82.404808         N7T 7Z6 2022-11-23 12:23:21.086731   \n",
       "3     43.462876     -80.520913         N2J 4V3 2022-11-23 12:23:21.086731   \n",
       "4     45.345665     -75.763912         K2G 6J8 2022-11-23 12:23:21.086731   \n",
       "\n",
       "                 UpdatedDate  \n",
       "0 2022-11-23 12:23:21.088744  \n",
       "1 2022-11-23 12:23:21.088744  \n",
       "2 2022-11-23 12:23:21.088744  \n",
       "3 2022-11-23 12:23:21.088744  \n",
       "4 2022-11-23 12:23:21.088744  "
      ]
     },
     "execution_count": 284,
     "metadata": {},
     "output_type": "execute_result"
    }
   ],
   "source": [
    "df.head()"
   ]
  },
  {
   "cell_type": "code",
   "execution_count": 285,
   "metadata": {},
   "outputs": [
    {
     "data": {
      "text/plain": [
       "Index(['Outcome', 'Age', 'Gender', 'Reporting PHU', 'SpecimenDate',\n",
       "       'CaseReported Date', 'PHUCity', 'TestReported Date',\n",
       "       'CaseAcquisition info', 'AccurateEpisode Dt', 'PHU Address',\n",
       "       'PHU Website', 'OutbreakRelated', 'PHU Latitude', 'PHU Longitude',\n",
       "       'PHU Postal Code', 'CreatedDate', 'UpdatedDate'],\n",
       "      dtype='object')"
      ]
     },
     "execution_count": 285,
     "metadata": {},
     "output_type": "execute_result"
    }
   ],
   "source": [
    "df.columns"
   ]
  },
  {
   "cell_type": "code",
   "execution_count": 286,
   "metadata": {},
   "outputs": [],
   "source": [
    "df.columns=['Outcome', 'Age', 'Gender', 'ReportingPHU', 'SpecimenDate',\n",
    "       'CaseReportedDate', 'PHUCity', 'TestReportedDate',\n",
    "       'CaseAcquisitionInfo', 'AccurateEpisodeDt', 'PHUAddress',\n",
    "       'PHUWebsite', 'OutbreakRelated', 'PHULatitude', 'PHULongitude',\n",
    "       'PHUPostalCode','CreatedDate', 'UpdatedDate']\n",
    "df.to_excel('CasesReport.xlsx',index=False)"
   ]
  }
 ],
 "metadata": {
  "kernelspec": {
   "display_name": "Python 3.10.8 64-bit",
   "language": "python",
   "name": "python3"
  },
  "language_info": {
   "codemirror_mode": {
    "name": "ipython",
    "version": 3
   },
   "file_extension": ".py",
   "mimetype": "text/x-python",
   "name": "python",
   "nbconvert_exporter": "python",
   "pygments_lexer": "ipython3",
   "version": "3.10.8"
  },
  "orig_nbformat": 4,
  "vscode": {
   "interpreter": {
    "hash": "e6326f7b191ddd38073533f6596c72a54afc69cb5c311f5ee537d7a883aa034a"
   }
  }
 },
 "nbformat": 4,
 "nbformat_minor": 2
}
