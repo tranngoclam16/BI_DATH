{
 "cells": [
  {
   "cell_type": "code",
   "execution_count": 25,
   "metadata": {},
   "outputs": [],
   "source": [
    "import pandas as pd\n",
    "import numpy as np\n",
    "import seaborn as sns\n",
    "import matplotlib.pyplot as plt\n",
    "import plotly.express as px\n",
    "from sklearn import linear_model\n",
    "import statsmodels.api as sm\n",
    "import datetime as dt"
   ]
  },
  {
   "cell_type": "code",
   "execution_count": 26,
   "metadata": {},
   "outputs": [
    {
     "data": {
      "text/html": [
       "<div>\n",
       "<style scoped>\n",
       "    .dataframe tbody tr th:only-of-type {\n",
       "        vertical-align: middle;\n",
       "    }\n",
       "\n",
       "    .dataframe tbody tr th {\n",
       "        vertical-align: top;\n",
       "    }\n",
       "\n",
       "    .dataframe thead th {\n",
       "        text-align: right;\n",
       "    }\n",
       "</style>\n",
       "<table border=\"1\" class=\"dataframe\">\n",
       "  <thead>\n",
       "    <tr style=\"text-align: right;\">\n",
       "      <th></th>\n",
       "      <th>Outcome</th>\n",
       "      <th>Age</th>\n",
       "      <th>Gender</th>\n",
       "      <th>Reporting PHU</th>\n",
       "      <th>SpecimenDate</th>\n",
       "      <th>CaseReported Date</th>\n",
       "      <th>PHUCity</th>\n",
       "      <th>TestReported Date</th>\n",
       "      <th>CaseAcquisition info</th>\n",
       "      <th>AccurateEpisode Dt</th>\n",
       "      <th>PHU Address</th>\n",
       "      <th>PHU Website</th>\n",
       "      <th>OutbreakRelated</th>\n",
       "      <th>PHU Latitude</th>\n",
       "      <th>PHU Longitude</th>\n",
       "      <th>PHU Postal Code</th>\n",
       "    </tr>\n",
       "  </thead>\n",
       "  <tbody>\n",
       "    <tr>\n",
       "      <th>0</th>\n",
       "      <td>Resolved</td>\n",
       "      <td>80s</td>\n",
       "      <td>FEMALE</td>\n",
       "      <td>Toronto Public Health</td>\n",
       "      <td>9/24/2020</td>\n",
       "      <td>2/6/2021</td>\n",
       "      <td>Toronto</td>\n",
       "      <td>2/6/2021</td>\n",
       "      <td>OB</td>\n",
       "      <td>1/26/2021</td>\n",
       "      <td>277 Victoria Street, 5th Floor</td>\n",
       "      <td>www.toronto.ca/community-people/health-wellnes...</td>\n",
       "      <td>Yes</td>\n",
       "      <td>43.656591</td>\n",
       "      <td>-79.379358</td>\n",
       "      <td>M5B 1W2</td>\n",
       "    </tr>\n",
       "    <tr>\n",
       "      <th>1</th>\n",
       "      <td>Resolved</td>\n",
       "      <td>&lt;20</td>\n",
       "      <td>MALE</td>\n",
       "      <td>Peel Public Health</td>\n",
       "      <td>12/24/2020</td>\n",
       "      <td>2/1/2021</td>\n",
       "      <td>Mississauga</td>\n",
       "      <td>2/1/2021</td>\n",
       "      <td>CC</td>\n",
       "      <td>1/29/2021</td>\n",
       "      <td>7120 Hurontario Street</td>\n",
       "      <td>www.peelregion.ca/health/</td>\n",
       "      <td>NaN</td>\n",
       "      <td>43.647471</td>\n",
       "      <td>-79.708893</td>\n",
       "      <td>L5W 1N4</td>\n",
       "    </tr>\n",
       "    <tr>\n",
       "      <th>2</th>\n",
       "      <td>Resolved</td>\n",
       "      <td>20s</td>\n",
       "      <td>MALE</td>\n",
       "      <td>Lambton Public Health</td>\n",
       "      <td>9/23/2020</td>\n",
       "      <td>1/15/2021</td>\n",
       "      <td>Point Edward</td>\n",
       "      <td>1/14/2021</td>\n",
       "      <td>CC</td>\n",
       "      <td>1/10/2021</td>\n",
       "      <td>160 Exmouth Street</td>\n",
       "      <td>www.lambtonhealth.on.ca</td>\n",
       "      <td>Yes</td>\n",
       "      <td>42.986416</td>\n",
       "      <td>-82.404808</td>\n",
       "      <td>N7T 7Z6</td>\n",
       "    </tr>\n",
       "    <tr>\n",
       "      <th>3</th>\n",
       "      <td>Resolved</td>\n",
       "      <td>20s</td>\n",
       "      <td>MALE</td>\n",
       "      <td>Region of Waterloo, Public Health</td>\n",
       "      <td>9/20/2020</td>\n",
       "      <td>12/29/2020</td>\n",
       "      <td>Waterloo</td>\n",
       "      <td>9/23/2020</td>\n",
       "      <td>NO KNOWN EPI LINK</td>\n",
       "      <td>9/20/2020</td>\n",
       "      <td>99 Regina Street South</td>\n",
       "      <td>www.regionofwaterloo.ca</td>\n",
       "      <td>NaN</td>\n",
       "      <td>43.462876</td>\n",
       "      <td>-80.520913</td>\n",
       "      <td>N2J 4V3</td>\n",
       "    </tr>\n",
       "    <tr>\n",
       "      <th>4</th>\n",
       "      <td>Resolved</td>\n",
       "      <td>20s</td>\n",
       "      <td>FEMALE</td>\n",
       "      <td>Ottawa Public Health</td>\n",
       "      <td>9/21/2020</td>\n",
       "      <td>12/24/2020</td>\n",
       "      <td>Ottawa</td>\n",
       "      <td>9/22/2020</td>\n",
       "      <td>CC</td>\n",
       "      <td>9/21/2020</td>\n",
       "      <td>100 Constellation Drive</td>\n",
       "      <td>www.ottawapublichealth.ca</td>\n",
       "      <td>NaN</td>\n",
       "      <td>45.345665</td>\n",
       "      <td>-75.763912</td>\n",
       "      <td>K2G 6J8</td>\n",
       "    </tr>\n",
       "  </tbody>\n",
       "</table>\n",
       "</div>"
      ],
      "text/plain": [
       "    Outcome  Age  Gender                      Reporting PHU SpecimenDate  \\\n",
       "0  Resolved  80s  FEMALE              Toronto Public Health    9/24/2020   \n",
       "1  Resolved  <20    MALE                 Peel Public Health   12/24/2020   \n",
       "2  Resolved  20s    MALE              Lambton Public Health    9/23/2020   \n",
       "3  Resolved  20s    MALE  Region of Waterloo, Public Health    9/20/2020   \n",
       "4  Resolved  20s  FEMALE               Ottawa Public Health    9/21/2020   \n",
       "\n",
       "  CaseReported Date       PHUCity TestReported Date CaseAcquisition info  \\\n",
       "0          2/6/2021       Toronto          2/6/2021                   OB   \n",
       "1          2/1/2021   Mississauga          2/1/2021                   CC   \n",
       "2         1/15/2021  Point Edward         1/14/2021                   CC   \n",
       "3        12/29/2020      Waterloo         9/23/2020    NO KNOWN EPI LINK   \n",
       "4        12/24/2020        Ottawa         9/22/2020                   CC   \n",
       "\n",
       "  AccurateEpisode Dt                     PHU Address  \\\n",
       "0          1/26/2021  277 Victoria Street, 5th Floor   \n",
       "1          1/29/2021          7120 Hurontario Street   \n",
       "2          1/10/2021              160 Exmouth Street   \n",
       "3          9/20/2020          99 Regina Street South   \n",
       "4          9/21/2020         100 Constellation Drive   \n",
       "\n",
       "                                         PHU Website OutbreakRelated  \\\n",
       "0  www.toronto.ca/community-people/health-wellnes...             Yes   \n",
       "1                          www.peelregion.ca/health/             NaN   \n",
       "2                            www.lambtonhealth.on.ca             Yes   \n",
       "3                            www.regionofwaterloo.ca             NaN   \n",
       "4                          www.ottawapublichealth.ca             NaN   \n",
       "\n",
       "   PHU Latitude  PHU Longitude PHU Postal Code  \n",
       "0     43.656591     -79.379358         M5B 1W2  \n",
       "1     43.647471     -79.708893         L5W 1N4  \n",
       "2     42.986416     -82.404808         N7T 7Z6  \n",
       "3     43.462876     -80.520913         N2J 4V3  \n",
       "4     45.345665     -75.763912         K2G 6J8  "
      ]
     },
     "execution_count": 26,
     "metadata": {},
     "output_type": "execute_result"
    }
   ],
   "source": [
    "df=pd.read_csv('Datasource/Cases Report.csv')\n",
    "df.head()"
   ]
  },
  {
   "cell_type": "code",
   "execution_count": 27,
   "metadata": {},
   "outputs": [
    {
     "name": "stdout",
     "output_type": "stream",
     "text": [
      "<class 'pandas.core.frame.DataFrame'>\n",
      "RangeIndex: 28500 entries, 0 to 28499\n",
      "Data columns (total 16 columns):\n",
      " #   Column                Non-Null Count  Dtype  \n",
      "---  ------                --------------  -----  \n",
      " 0   Outcome               28500 non-null  object \n",
      " 1   Age                   28500 non-null  object \n",
      " 2   Gender                28500 non-null  object \n",
      " 3   Reporting PHU         28500 non-null  object \n",
      " 4   SpecimenDate          28292 non-null  object \n",
      " 5   CaseReported Date     28500 non-null  object \n",
      " 6   PHUCity               28500 non-null  object \n",
      " 7   TestReported Date     28082 non-null  object \n",
      " 8   CaseAcquisition info  28500 non-null  object \n",
      " 9   AccurateEpisode Dt    28500 non-null  object \n",
      " 10  PHU Address           28500 non-null  object \n",
      " 11  PHU Website           28500 non-null  object \n",
      " 12  OutbreakRelated       8710 non-null   object \n",
      " 13  PHU Latitude          28500 non-null  float64\n",
      " 14  PHU Longitude         28500 non-null  float64\n",
      " 15  PHU Postal Code       28500 non-null  object \n",
      "dtypes: float64(2), object(14)\n",
      "memory usage: 3.5+ MB\n"
     ]
    }
   ],
   "source": [
    "df.info()"
   ]
  },
  {
   "cell_type": "code",
   "execution_count": 28,
   "metadata": {},
   "outputs": [
    {
     "data": {
      "text/plain": [
       "Outcome                     0\n",
       "Age                         0\n",
       "Gender                      0\n",
       "Reporting PHU               0\n",
       "SpecimenDate              208\n",
       "CaseReported Date           0\n",
       "PHUCity                     0\n",
       "TestReported Date         418\n",
       "CaseAcquisition info        0\n",
       "AccurateEpisode Dt          0\n",
       "PHU Address                 0\n",
       "PHU Website                 0\n",
       "OutbreakRelated         19790\n",
       "PHU Latitude                0\n",
       "PHU Longitude               0\n",
       "PHU Postal Code             0\n",
       "dtype: int64"
      ]
     },
     "execution_count": 28,
     "metadata": {},
     "output_type": "execute_result"
    }
   ],
   "source": [
    "df.isnull().sum()"
   ]
  },
  {
   "cell_type": "markdown",
   "metadata": {},
   "source": [
    "# Outcome, Age, Gender"
   ]
  },
  {
   "cell_type": "code",
   "execution_count": 29,
   "metadata": {},
   "outputs": [
    {
     "data": {
      "text/plain": [
       "Resolved        27192\n",
       "Fatal            1307\n",
       "Not Resolved        1\n",
       "Name: Outcome, dtype: int64"
      ]
     },
     "execution_count": 29,
     "metadata": {},
     "output_type": "execute_result"
    }
   ],
   "source": [
    "df['Outcome'].value_counts()"
   ]
  },
  {
   "cell_type": "code",
   "execution_count": 30,
   "metadata": {},
   "outputs": [
    {
     "data": {
      "text/plain": [
       "20s    5899\n",
       "30s    4363\n",
       "50s    4280\n",
       "40s    3952\n",
       "60s    2879\n",
       "<20    2556\n",
       "80s    1737\n",
       "70s    1699\n",
       "90+    1135\n",
       "Name: Age, dtype: int64"
      ]
     },
     "execution_count": 30,
     "metadata": {},
     "output_type": "execute_result"
    }
   ],
   "source": [
    "df['Age'].value_counts()"
   ]
  },
  {
   "cell_type": "code",
   "execution_count": 31,
   "metadata": {},
   "outputs": [
    {
     "data": {
      "text/plain": [
       "FEMALE            14470\n",
       "MALE              14006\n",
       "UNSPECIFIED          21\n",
       "GENDER DIVERSE        3\n",
       "Name: Gender, dtype: int64"
      ]
     },
     "execution_count": 31,
     "metadata": {},
     "output_type": "execute_result"
    }
   ],
   "source": [
    "df['Gender'].value_counts()"
   ]
  },
  {
   "cell_type": "code",
   "execution_count": 32,
   "metadata": {},
   "outputs": [],
   "source": [
    "df['Gender']=df['Gender'].str.lower()"
   ]
  },
  {
   "cell_type": "markdown",
   "metadata": {},
   "source": [
    "# SpecimenDate, TestReported Date"
   ]
  },
  {
   "cell_type": "code",
   "execution_count": 33,
   "metadata": {},
   "outputs": [
    {
     "data": {
      "text/plain": [
       "4/15/2020     404\n",
       "4/16/2020     389\n",
       "4/13/2020     383\n",
       "4/11/2020     356\n",
       "4/17/2020     336\n",
       "             ... \n",
       "2/9/2021        1\n",
       "10/16/2020      1\n",
       "10/15/2020      1\n",
       "3/3/2020        1\n",
       "12/15/2020      1\n",
       "Name: SpecimenDate, Length: 242, dtype: int64"
      ]
     },
     "execution_count": 33,
     "metadata": {},
     "output_type": "execute_result"
    }
   ],
   "source": [
    "df['SpecimenDate'].value_counts()"
   ]
  },
  {
   "cell_type": "code",
   "execution_count": 34,
   "metadata": {},
   "outputs": [],
   "source": [
    "df['SpecimenDate'] =  pd.to_datetime(df['SpecimenDate'], format='%m/%d/%Y')"
   ]
  },
  {
   "cell_type": "code",
   "execution_count": 35,
   "metadata": {},
   "outputs": [
    {
     "data": {
      "text/plain": [
       "0       2020-09-24\n",
       "1       2020-12-24\n",
       "2       2020-09-23\n",
       "3       2020-09-20\n",
       "4       2020-09-21\n",
       "           ...    \n",
       "28495   2020-02-29\n",
       "28496   2020-02-28\n",
       "28497   2020-02-28\n",
       "28498   2020-02-28\n",
       "28499   2020-02-29\n",
       "Name: SpecimenDate, Length: 28500, dtype: datetime64[ns]"
      ]
     },
     "execution_count": 35,
     "metadata": {},
     "output_type": "execute_result"
    }
   ],
   "source": [
    "df['SpecimenDate']"
   ]
  },
  {
   "cell_type": "code",
   "execution_count": 36,
   "metadata": {},
   "outputs": [],
   "source": [
    "df['SpecimenDate'] = df['SpecimenDate'].fillna(df.groupby('Reporting PHU')['SpecimenDate'].transform('median'))"
   ]
  },
  {
   "cell_type": "code",
   "execution_count": 37,
   "metadata": {},
   "outputs": [],
   "source": [
    "df['TestReported Date'] =  pd.to_datetime(df['TestReported Date'], format='%m/%d/%Y')\n",
    "df['TestReported Date'] = df['TestReported Date'].fillna(df.groupby('Reporting PHU')['TestReported Date'].transform('median'))"
   ]
  },
  {
   "cell_type": "code",
   "execution_count": 38,
   "metadata": {},
   "outputs": [
    {
     "data": {
      "text/plain": [
       "Outcome                     0\n",
       "Age                         0\n",
       "Gender                      0\n",
       "Reporting PHU               0\n",
       "SpecimenDate                0\n",
       "CaseReported Date           0\n",
       "PHUCity                     0\n",
       "TestReported Date           0\n",
       "CaseAcquisition info        0\n",
       "AccurateEpisode Dt          0\n",
       "PHU Address                 0\n",
       "PHU Website                 0\n",
       "OutbreakRelated         19790\n",
       "PHU Latitude                0\n",
       "PHU Longitude               0\n",
       "PHU Postal Code             0\n",
       "dtype: int64"
      ]
     },
     "execution_count": 38,
     "metadata": {},
     "output_type": "execute_result"
    }
   ],
   "source": [
    "df.isnull().sum()"
   ]
  },
  {
   "cell_type": "code",
   "execution_count": 39,
   "metadata": {},
   "outputs": [],
   "source": [
    "df['CaseReported Date'] =  pd.to_datetime(df['CaseReported Date'], format='%m/%d/%Y')\n",
    "df['AccurateEpisode Dt'] =  pd.to_datetime(df['AccurateEpisode Dt'], format='%m/%d/%Y')"
   ]
  },
  {
   "cell_type": "markdown",
   "metadata": {},
   "source": [
    "# OutbreakRelated"
   ]
  },
  {
   "cell_type": "code",
   "execution_count": 40,
   "metadata": {},
   "outputs": [
    {
     "data": {
      "text/plain": [
       "array(['Yes', nan], dtype=object)"
      ]
     },
     "execution_count": 40,
     "metadata": {},
     "output_type": "execute_result"
    }
   ],
   "source": [
    "df['OutbreakRelated'].unique()"
   ]
  },
  {
   "cell_type": "code",
   "execution_count": 41,
   "metadata": {},
   "outputs": [
    {
     "data": {
      "text/html": [
       "<div>\n",
       "<style scoped>\n",
       "    .dataframe tbody tr th:only-of-type {\n",
       "        vertical-align: middle;\n",
       "    }\n",
       "\n",
       "    .dataframe tbody tr th {\n",
       "        vertical-align: top;\n",
       "    }\n",
       "\n",
       "    .dataframe thead th {\n",
       "        text-align: right;\n",
       "    }\n",
       "</style>\n",
       "<table border=\"1\" class=\"dataframe\">\n",
       "  <thead>\n",
       "    <tr style=\"text-align: right;\">\n",
       "      <th></th>\n",
       "      <th>CaseAcquisition info</th>\n",
       "      <th>Count</th>\n",
       "    </tr>\n",
       "  </thead>\n",
       "  <tbody>\n",
       "    <tr>\n",
       "      <th>0</th>\n",
       "      <td>UNSPECIFIED EPI LINK</td>\n",
       "      <td>130</td>\n",
       "    </tr>\n",
       "    <tr>\n",
       "      <th>1</th>\n",
       "      <td>OB</td>\n",
       "      <td>246</td>\n",
       "    </tr>\n",
       "    <tr>\n",
       "      <th>2</th>\n",
       "      <td>MISSING INFORMATION</td>\n",
       "      <td>250</td>\n",
       "    </tr>\n",
       "    <tr>\n",
       "      <th>3</th>\n",
       "      <td>TRAVEL</td>\n",
       "      <td>1721</td>\n",
       "    </tr>\n",
       "    <tr>\n",
       "      <th>4</th>\n",
       "      <td>NO KNOWN EPI LINK</td>\n",
       "      <td>6293</td>\n",
       "    </tr>\n",
       "    <tr>\n",
       "      <th>5</th>\n",
       "      <td>CC</td>\n",
       "      <td>11150</td>\n",
       "    </tr>\n",
       "  </tbody>\n",
       "</table>\n",
       "</div>"
      ],
      "text/plain": [
       "   CaseAcquisition info  Count\n",
       "0  UNSPECIFIED EPI LINK    130\n",
       "1                    OB    246\n",
       "2   MISSING INFORMATION    250\n",
       "3                TRAVEL   1721\n",
       "4     NO KNOWN EPI LINK   6293\n",
       "5                    CC  11150"
      ]
     },
     "execution_count": 41,
     "metadata": {},
     "output_type": "execute_result"
    }
   ],
   "source": [
    "bool_series = pd.isnull(df['OutbreakRelated'])\n",
    "df[bool_series].groupby('CaseAcquisition info')['CaseAcquisition info'].count().sort_values(ascending=True).reset_index(name='Count')"
   ]
  },
  {
   "cell_type": "code",
   "execution_count": 42,
   "metadata": {},
   "outputs": [
    {
     "data": {
      "text/html": [
       "<div>\n",
       "<style scoped>\n",
       "    .dataframe tbody tr th:only-of-type {\n",
       "        vertical-align: middle;\n",
       "    }\n",
       "\n",
       "    .dataframe tbody tr th {\n",
       "        vertical-align: top;\n",
       "    }\n",
       "\n",
       "    .dataframe thead th {\n",
       "        text-align: right;\n",
       "    }\n",
       "</style>\n",
       "<table border=\"1\" class=\"dataframe\">\n",
       "  <thead>\n",
       "    <tr style=\"text-align: right;\">\n",
       "      <th></th>\n",
       "      <th>CaseAcquisition info</th>\n",
       "      <th>Count</th>\n",
       "    </tr>\n",
       "  </thead>\n",
       "  <tbody>\n",
       "    <tr>\n",
       "      <th>0</th>\n",
       "      <td>TRAVEL</td>\n",
       "      <td>2</td>\n",
       "    </tr>\n",
       "    <tr>\n",
       "      <th>1</th>\n",
       "      <td>UNSPECIFIED EPI LINK</td>\n",
       "      <td>3</td>\n",
       "    </tr>\n",
       "    <tr>\n",
       "      <th>2</th>\n",
       "      <td>MISSING INFORMATION</td>\n",
       "      <td>4</td>\n",
       "    </tr>\n",
       "    <tr>\n",
       "      <th>3</th>\n",
       "      <td>NO KNOWN EPI LINK</td>\n",
       "      <td>88</td>\n",
       "    </tr>\n",
       "    <tr>\n",
       "      <th>4</th>\n",
       "      <td>CC</td>\n",
       "      <td>393</td>\n",
       "    </tr>\n",
       "    <tr>\n",
       "      <th>5</th>\n",
       "      <td>OB</td>\n",
       "      <td>8220</td>\n",
       "    </tr>\n",
       "  </tbody>\n",
       "</table>\n",
       "</div>"
      ],
      "text/plain": [
       "   CaseAcquisition info  Count\n",
       "0                TRAVEL      2\n",
       "1  UNSPECIFIED EPI LINK      3\n",
       "2   MISSING INFORMATION      4\n",
       "3     NO KNOWN EPI LINK     88\n",
       "4                    CC    393\n",
       "5                    OB   8220"
      ]
     },
     "execution_count": 42,
     "metadata": {},
     "output_type": "execute_result"
    }
   ],
   "source": [
    "bool_series = pd.notnull(df['OutbreakRelated'])\n",
    "df[bool_series].groupby('CaseAcquisition info')['CaseAcquisition info'].count().sort_values(ascending=True).reset_index(name='Count')"
   ]
  },
  {
   "cell_type": "code",
   "execution_count": 43,
   "metadata": {},
   "outputs": [],
   "source": [
    "pd.options.mode.chained_assignment = 'warn'\n",
    "df.loc[df['CaseAcquisition info']=='OB','OutbreakRelated'] = df.loc[df['CaseAcquisition info']=='OB','OutbreakRelated'].fillna('Yes')"
   ]
  },
  {
   "cell_type": "code",
   "execution_count": 44,
   "metadata": {},
   "outputs": [
    {
     "data": {
      "text/plain": [
       "array(['Yes'], dtype=object)"
      ]
     },
     "execution_count": 44,
     "metadata": {},
     "output_type": "execute_result"
    }
   ],
   "source": [
    "df[df['CaseAcquisition info']=='OB']['OutbreakRelated'].unique()"
   ]
  },
  {
   "cell_type": "code",
   "execution_count": 45,
   "metadata": {},
   "outputs": [],
   "source": [
    "df['OutbreakRelated'] = df['OutbreakRelated'].fillna('No')"
   ]
  },
  {
   "cell_type": "code",
   "execution_count": 46,
   "metadata": {},
   "outputs": [
    {
     "data": {
      "text/plain": [
       "Outcome                 0\n",
       "Age                     0\n",
       "Gender                  0\n",
       "Reporting PHU           0\n",
       "SpecimenDate            0\n",
       "CaseReported Date       0\n",
       "PHUCity                 0\n",
       "TestReported Date       0\n",
       "CaseAcquisition info    0\n",
       "AccurateEpisode Dt      0\n",
       "PHU Address             0\n",
       "PHU Website             0\n",
       "OutbreakRelated         0\n",
       "PHU Latitude            0\n",
       "PHU Longitude           0\n",
       "PHU Postal Code         0\n",
       "dtype: int64"
      ]
     },
     "execution_count": 46,
     "metadata": {},
     "output_type": "execute_result"
    }
   ],
   "source": [
    "df.isnull().sum()"
   ]
  },
  {
   "cell_type": "code",
   "execution_count": 48,
   "metadata": {},
   "outputs": [
    {
     "data": {
      "text/plain": [
       "Index(['Outcome', 'Age', 'Gender', 'Reporting PHU', 'SpecimenDate',\n",
       "       'CaseReported Date', 'PHUCity', 'TestReported Date',\n",
       "       'CaseAcquisition info', 'AccurateEpisode Dt', 'PHU Address',\n",
       "       'PHU Website', 'OutbreakRelated', 'PHU Latitude', 'PHU Longitude',\n",
       "       'PHU Postal Code'],\n",
       "      dtype='object')"
      ]
     },
     "execution_count": 48,
     "metadata": {},
     "output_type": "execute_result"
    }
   ],
   "source": [
    "df.columns"
   ]
  },
  {
   "cell_type": "code",
   "execution_count": 49,
   "metadata": {},
   "outputs": [],
   "source": [
    "df.columns=['Outcome', 'Age', 'Gender', 'ReportingPHU', 'SpecimenDate',\n",
    "       'CaseReportedDate', 'PHUCity', 'TestReportedDate',\n",
    "       'CaseAcquisitionInfo', 'AccurateEpisodeDt', 'PHUAddress',\n",
    "       'PHUWebsite', 'OutbreakRelated', 'PHULatitude', 'PHULongitude',\n",
    "       'PHUPostalCode']\n",
    "df.to_csv('CasesReport.csv',index=False,sep=';',date_format = '%m/%d/%Y')"
   ]
  }
 ],
 "metadata": {
  "kernelspec": {
   "display_name": "Python 3.10.8 64-bit",
   "language": "python",
   "name": "python3"
  },
  "language_info": {
   "codemirror_mode": {
    "name": "ipython",
    "version": 3
   },
   "file_extension": ".py",
   "mimetype": "text/x-python",
   "name": "python",
   "nbconvert_exporter": "python",
   "pygments_lexer": "ipython3",
   "version": "3.10.8"
  },
  "orig_nbformat": 4,
  "vscode": {
   "interpreter": {
    "hash": "e6326f7b191ddd38073533f6596c72a54afc69cb5c311f5ee537d7a883aa034a"
   }
  }
 },
 "nbformat": 4,
 "nbformat_minor": 2
}
