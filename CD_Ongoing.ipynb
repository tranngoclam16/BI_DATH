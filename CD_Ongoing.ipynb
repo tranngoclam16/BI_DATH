{
 "cells": [
  {
   "cell_type": "code",
   "execution_count": 10,
   "metadata": {},
   "outputs": [],
   "source": [
    "import pandas as pd\n",
    "import numpy as np\n",
    "import datetime as dt\n",
    "import matplotlib.pyplot as plt\n",
    "import seaborn as sns"
   ]
  },
  {
   "cell_type": "code",
   "execution_count": 2,
   "metadata": {},
   "outputs": [
    {
     "data": {
      "text/html": [
       "<div>\n",
       "<style scoped>\n",
       "    .dataframe tbody tr th:only-of-type {\n",
       "        vertical-align: middle;\n",
       "    }\n",
       "\n",
       "    .dataframe tbody tr th {\n",
       "        vertical-align: top;\n",
       "    }\n",
       "\n",
       "    .dataframe thead th {\n",
       "        text-align: right;\n",
       "    }\n",
       "</style>\n",
       "<table border=\"1\" class=\"dataframe\">\n",
       "  <thead>\n",
       "    <tr style=\"text-align: right;\">\n",
       "      <th></th>\n",
       "      <th>date</th>\n",
       "      <th>phu_num</th>\n",
       "      <th>outbreak_group</th>\n",
       "      <th>number_ongoing_outbreaks</th>\n",
       "    </tr>\n",
       "  </thead>\n",
       "  <tbody>\n",
       "    <tr>\n",
       "      <th>0</th>\n",
       "      <td>11/1/2020</td>\n",
       "      <td>2227</td>\n",
       "      <td>1 Congregate Care</td>\n",
       "      <td>2</td>\n",
       "    </tr>\n",
       "    <tr>\n",
       "      <th>1</th>\n",
       "      <td>11/1/2020</td>\n",
       "      <td>2227</td>\n",
       "      <td>4 Workplace</td>\n",
       "      <td>1</td>\n",
       "    </tr>\n",
       "    <tr>\n",
       "      <th>2</th>\n",
       "      <td>11/1/2020</td>\n",
       "      <td>2240</td>\n",
       "      <td>4 Workplace</td>\n",
       "      <td>1</td>\n",
       "    </tr>\n",
       "    <tr>\n",
       "      <th>3</th>\n",
       "      <td>11/1/2020</td>\n",
       "      <td>2240</td>\n",
       "      <td>5 Recreational</td>\n",
       "      <td>1</td>\n",
       "    </tr>\n",
       "    <tr>\n",
       "      <th>4</th>\n",
       "      <td>11/1/2020</td>\n",
       "      <td>2240</td>\n",
       "      <td>6 Other/Unknown</td>\n",
       "      <td>1</td>\n",
       "    </tr>\n",
       "  </tbody>\n",
       "</table>\n",
       "</div>"
      ],
      "text/plain": [
       "        date  phu_num     outbreak_group  number_ongoing_outbreaks\n",
       "0  11/1/2020     2227  1 Congregate Care                         2\n",
       "1  11/1/2020     2227        4 Workplace                         1\n",
       "2  11/1/2020     2240        4 Workplace                         1\n",
       "3  11/1/2020     2240     5 Recreational                         1\n",
       "4  11/1/2020     2240    6 Other/Unknown                         1"
      ]
     },
     "execution_count": 2,
     "metadata": {},
     "output_type": "execute_result"
    }
   ],
   "source": [
    "df=pd.read_csv('Datasource/ongoing_outbreaks_phu.csv')\n",
    "df.head()"
   ]
  },
  {
   "cell_type": "code",
   "execution_count": 3,
   "metadata": {},
   "outputs": [
    {
     "name": "stdout",
     "output_type": "stream",
     "text": [
      "<class 'pandas.core.frame.DataFrame'>\n",
      "RangeIndex: 56987 entries, 0 to 56986\n",
      "Data columns (total 4 columns):\n",
      " #   Column                    Non-Null Count  Dtype \n",
      "---  ------                    --------------  ----- \n",
      " 0   date                      56987 non-null  object\n",
      " 1   phu_num                   56987 non-null  int64 \n",
      " 2   outbreak_group            56987 non-null  object\n",
      " 3   number_ongoing_outbreaks  56987 non-null  int64 \n",
      "dtypes: int64(2), object(2)\n",
      "memory usage: 1.7+ MB\n"
     ]
    }
   ],
   "source": [
    "df.info()"
   ]
  },
  {
   "cell_type": "code",
   "execution_count": 4,
   "metadata": {},
   "outputs": [
    {
     "data": {
      "text/plain": [
       "date                        0\n",
       "phu_num                     0\n",
       "outbreak_group              0\n",
       "number_ongoing_outbreaks    0\n",
       "dtype: int64"
      ]
     },
     "execution_count": 4,
     "metadata": {},
     "output_type": "execute_result"
    }
   ],
   "source": [
    "df.isnull().sum()"
   ]
  },
  {
   "cell_type": "code",
   "execution_count": 12,
   "metadata": {},
   "outputs": [
    {
     "data": {
      "text/html": [
       "<div>\n",
       "<style scoped>\n",
       "    .dataframe tbody tr th:only-of-type {\n",
       "        vertical-align: middle;\n",
       "    }\n",
       "\n",
       "    .dataframe tbody tr th {\n",
       "        vertical-align: top;\n",
       "    }\n",
       "\n",
       "    .dataframe thead th {\n",
       "        text-align: right;\n",
       "    }\n",
       "</style>\n",
       "<table border=\"1\" class=\"dataframe\">\n",
       "  <thead>\n",
       "    <tr style=\"text-align: right;\">\n",
       "      <th></th>\n",
       "      <th>date</th>\n",
       "      <th>phu_num</th>\n",
       "      <th>outbreak_group</th>\n",
       "      <th>number_ongoing_outbreaks</th>\n",
       "    </tr>\n",
       "  </thead>\n",
       "  <tbody>\n",
       "  </tbody>\n",
       "</table>\n",
       "</div>"
      ],
      "text/plain": [
       "Empty DataFrame\n",
       "Columns: [date, phu_num, outbreak_group, number_ongoing_outbreaks]\n",
       "Index: []"
      ]
     },
     "execution_count": 12,
     "metadata": {},
     "output_type": "execute_result"
    }
   ],
   "source": [
    "df[df.duplicated(keep='first')]"
   ]
  },
  {
   "cell_type": "code",
   "execution_count": 5,
   "metadata": {},
   "outputs": [
    {
     "data": {
      "text/plain": [
       "0       2020-11-01\n",
       "1       2020-11-01\n",
       "2       2020-11-01\n",
       "3       2020-11-01\n",
       "4       2020-11-01\n",
       "           ...    \n",
       "56982   2022-08-25\n",
       "56983   2022-08-25\n",
       "56984   2022-08-25\n",
       "56985   2022-08-25\n",
       "56986   2022-08-25\n",
       "Name: date, Length: 56987, dtype: datetime64[ns]"
      ]
     },
     "execution_count": 5,
     "metadata": {},
     "output_type": "execute_result"
    }
   ],
   "source": [
    "df['date'] =  pd.to_datetime(df['date'], format='%m/%d/%Y')\n",
    "df['date']"
   ]
  },
  {
   "cell_type": "code",
   "execution_count": 6,
   "metadata": {},
   "outputs": [
    {
     "data": {
      "text/plain": [
       "array(['1 Congregate Care', '4 Workplace', '5 Recreational',\n",
       "       '6 Other/Unknown', '3 Education', '2 Congregate Living'],\n",
       "      dtype=object)"
      ]
     },
     "execution_count": 6,
     "metadata": {},
     "output_type": "execute_result"
    }
   ],
   "source": [
    "df['outbreak_group'].unique()"
   ]
  },
  {
   "cell_type": "code",
   "execution_count": 7,
   "metadata": {},
   "outputs": [
    {
     "data": {
      "text/plain": [
       "array([  2,   1,   5,  29,   7,   6,   3,   4,   9,  28,  67,  39,  19,\n",
       "        17,  11,  14,  23,  27,  10,  68,  36,  21,  12,  66,  35,  18,\n",
       "        16,  22,  13,  30,  31,  37,  20,  33,  69,  40,   8,  71,  43,\n",
       "        25,  26,  15,  73,  41,  24,  72,  38,  42,  44,  46,  74,  47,\n",
       "        76,  75,  49,  50,  32,  51,  52,  53,  80,  34,  83,  48,  82,\n",
       "        55,  56,  57,  81,  58,  61,  54,  64,  60,  79,  78,  62,  45,\n",
       "        65,  70,  85,  77,  63,  89,  90,  93,  98, 104, 106, 110, 111,\n",
       "       108, 107, 102,  99, 100, 101,  59,  92,  87,  86,  84,  97,  96,\n",
       "        95, 105, 118, 119, 114, 122, 123, 113, 109, 126, 137, 149, 159,\n",
       "       169, 173, 181, 185, 191,  91, 192, 196, 124, 201, 132, 198, 131,\n",
       "       121, 103, 200, 115, 184, 183, 179, 177, 172, 170, 157,  94, 153,\n",
       "       146, 145,  88, 141, 136, 130], dtype=int64)"
      ]
     },
     "execution_count": 7,
     "metadata": {},
     "output_type": "execute_result"
    }
   ],
   "source": [
    "df['number_ongoing_outbreaks'].unique()"
   ]
  },
  {
   "cell_type": "code",
   "execution_count": 8,
   "metadata": {},
   "outputs": [
    {
     "data": {
      "text/plain": [
       "Index(['date', 'phu_num', 'outbreak_group', 'number_ongoing_outbreaks'], dtype='object')"
      ]
     },
     "execution_count": 8,
     "metadata": {},
     "output_type": "execute_result"
    }
   ],
   "source": [
    "df.columns"
   ]
  },
  {
   "cell_type": "code",
   "execution_count": 9,
   "metadata": {},
   "outputs": [],
   "source": [
    "df.to_csv('OngoingOutbreaksPHU.csv',index=False,sep=';',date_format = '%m/%d/%Y')"
   ]
  }
 ],
 "metadata": {
  "kernelspec": {
   "display_name": "Python 3.10.8 64-bit",
   "language": "python",
   "name": "python3"
  },
  "language_info": {
   "codemirror_mode": {
    "name": "ipython",
    "version": 3
   },
   "file_extension": ".py",
   "mimetype": "text/x-python",
   "name": "python",
   "nbconvert_exporter": "python",
   "pygments_lexer": "ipython3",
   "version": "3.10.8"
  },
  "orig_nbformat": 4,
  "vscode": {
   "interpreter": {
    "hash": "e6326f7b191ddd38073533f6596c72a54afc69cb5c311f5ee537d7a883aa034a"
   }
  }
 },
 "nbformat": 4,
 "nbformat_minor": 2
}
